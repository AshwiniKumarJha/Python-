{
 "cells": [
  {
   "cell_type": "code",
   "execution_count": 10,
   "metadata": {},
   "outputs": [
    {
     "name": "stdout",
     "output_type": "stream",
     "text": [
      "<Element 'metadata' at 0x0000027104D06548>\n"
     ]
    }
   ],
   "source": [
    "import xml.etree.ElementTree as ET\n",
    "mytree = ET.parse('Sample.xml')\n",
    "myroot=mytree.getroot()\n",
    "print(myroot)"
   ]
  },
  {
   "cell_type": "code",
   "execution_count": 11,
   "metadata": {},
   "outputs": [
    {
     "name": "stdout",
     "output_type": "stream",
     "text": [
      "metadata\n"
     ]
    }
   ],
   "source": [
    "import xml.etree.ElementTree as ET\n",
    "data ='''<?xml version=\"1.0\" encoding=\"UTF-8\"?>\n",
    "<metadata>\n",
    "<food>\n",
    "  <item name=\"breakfast\"> Poha </item>\n",
    "  <price>$2.5</price>\n",
    "  <description>\n",
    "  sev poha\n",
    "  </description>\n",
    "  <calories>500</calories>\n",
    "</food>\n",
    "</metadata>'''\n",
    "myroot = ET.fromstring(data)\n",
    "print(myroot.tag)"
   ]
  },
  {
   "cell_type": "code",
   "execution_count": 20,
   "metadata": {},
   "outputs": [
    {
     "name": "stdout",
     "output_type": "stream",
     "text": [
      "metadata\n",
      "food\n",
      "{}\n",
      "item {'name': 'breakfast'}\n",
      "price {}\n",
      "description {}\n",
      "calories {}\n",
      " Poha \n",
      "$2.5\n",
      "\n",
      "  sev poha\n",
      "  \n",
      "500\n"
     ]
    }
   ],
   "source": [
    "#Finding Elements, \"\"\"Attributes are present as dictionaries, food tag has no extra attribute,\n",
    "#therefore o/p is an empty dictionary \"\"\"\n",
    "\n",
    "'''You can find various elements and subelements using tag, attrib,text etc '''\n",
    "import xml.etree.ElementTree as ET\n",
    "mytree = ET.parse('Sample.xml')\n",
    "myroot=mytree.getroot()\n",
    "print(myroot.tag)\n",
    "print(myroot[0].tag)\n",
    "print(myroot[0].attrib) \n",
    "for x in myroot[0]:\n",
    "    print(x.tag,x.attrib)\n",
    "#print text present in all the tags\n",
    "for x in myroot[0]:\n",
    "    print(x.text)"
   ]
  },
  {
   "cell_type": "code",
   "execution_count": 21,
   "metadata": {},
   "outputs": [
    {
     "name": "stdout",
     "output_type": "stream",
     "text": [
      " Poha  $2.5\n",
      " Samosa  $2.7\n",
      " jalebi poha  $3.5\n"
     ]
    }
   ],
   "source": [
    "#All the items along with its prices, use findall menthod\n",
    "import xml.etree.ElementTree as ET\n",
    "mytree = ET.parse('Sample.xml')\n",
    "myroot=mytree.getroot()\n",
    "for x in myroot.findall('food'):\n",
    "    ite=x.find('item').text\n",
    "    price=x.find('price').text\n",
    "    print(ite,price)"
   ]
  },
  {
   "cell_type": "code",
   "execution_count": 22,
   "metadata": {},
   "outputs": [],
   "source": [
    "#xml can be modified using functions set(), SubElement(), etc \n",
    "import xml.etree.ElementTree as ET\n",
    "mytree = ET.parse('Sample.xml')\n",
    "myroot=mytree.getroot()\n",
    "#to add more description in the description tag\n",
    "\n",
    "for x in myroot.iter('description'):\n",
    "    a=str(x.text)+'This is the added description'\n",
    "    x.text=str(a)\n",
    "    x.set('updated','yes')\n",
    "mytree.write('new.xml')"
   ]
  },
  {
   "cell_type": "code",
   "execution_count": 23,
   "metadata": {},
   "outputs": [],
   "source": [
    "#incase ypu want to add a new element, you can use a subelement method\n",
    "import xml.etree.ElementTree as ET\n",
    "mytree = ET.parse('Sample.xml')\n",
    "myroot=mytree.getroot()\n",
    "ET.SubElement(myroot[0],'speciality')\n",
    "for x in myroot.iter('speciality'):\n",
    "    b='Gujarati Special'\n",
    "    x.text=str(b)\n",
    "mytree.write('new1.xml')\n",
    "#added to the first food tag"
   ]
  },
  {
   "cell_type": "code",
   "execution_count": 7,
   "metadata": {},
   "outputs": [],
   "source": [
    "#deleting attributes or  subelements using SubElement(by using pop function)\n",
    "import xml.etree.ElementTree as ET\n",
    "mytree = ET.parse('Sample.xml')\n",
    "myroot=mytree.getroot()\n",
    "#myroot[] is the first child of the root element, and then another[] first element of the food tag\n",
    "#metadata is the root tag, first tag is food tag, first tag of food tag is the item tag\n",
    "myroot[0][0].attrib.pop('name')\n",
    "mytree.write('new2.xml')\n"
   ]
  },
  {
   "cell_type": "code",
   "execution_count": 8,
   "metadata": {},
   "outputs": [],
   "source": [
    "#if you want to remove a complete tag \n",
    "import xml.etree.ElementTree as ET\n",
    "mytree = ET.parse('Sample.xml')\n",
    "myroot=mytree.getroot()\n",
    "myroot[0].remove(myroot[0][0])\n",
    "mytree.write('new3.xml')"
   ]
  },
  {
   "cell_type": "code",
   "execution_count": 9,
   "metadata": {},
   "outputs": [],
   "source": [
    "#if you want to clear a tag of your choice\n",
    "import xml.etree.ElementTree as ET\n",
    "mytree = ET.parse('Sample.xml')\n",
    "myroot=mytree.getroot()\n",
    "myroot[0].clear()\n",
    "mytree.write('new4.xml')"
   ]
  },
  {
   "cell_type": "code",
   "execution_count": null,
   "metadata": {},
   "outputs": [],
   "source": []
  }
 ],
 "metadata": {
  "kernelspec": {
   "display_name": "Python 3",
   "language": "python",
   "name": "python3"
  },
  "language_info": {
   "codemirror_mode": {
    "name": "ipython",
    "version": 3
   },
   "file_extension": ".py",
   "mimetype": "text/x-python",
   "name": "python",
   "nbconvert_exporter": "python",
   "pygments_lexer": "ipython3",
   "version": "3.7.6"
  }
 },
 "nbformat": 4,
 "nbformat_minor": 4
}
