{
 "cells": [
  {
   "cell_type": "code",
   "execution_count": 1,
   "metadata": {},
   "outputs": [
    {
     "data": {
      "text/plain": [
       "0     1.0\n",
       "1     2.0\n",
       "2     3.0\n",
       "3     4.0\n",
       "4     5.0\n",
       "5     6.0\n",
       "6     NaN\n",
       "7     8.0\n",
       "8     9.0\n",
       "9    10.0\n",
       "dtype: float64"
      ]
     },
     "execution_count": 1,
     "metadata": {},
     "output_type": "execute_result"
    }
   ],
   "source": [
    "#Create series in pandas\n",
    "\n",
    "import pandas as pd\n",
    "import numpy as np\n",
    "s=pd.Series([1,2,3,4,5,6,np.nan,8,9,10])\n",
    "s"
   ]
  },
  {
   "cell_type": "code",
   "execution_count": 2,
   "metadata": {},
   "outputs": [
    {
     "data": {
      "text/plain": [
       "DatetimeIndex(['2020-04-01', '2020-04-02', '2020-04-03', '2020-04-04',\n",
       "               '2020-04-05', '2020-04-06', '2020-04-07', '2020-04-08',\n",
       "               '2020-04-09', '2020-04-10', '2020-04-11', '2020-04-12',\n",
       "               '2020-04-13', '2020-04-14', '2020-04-15'],\n",
       "              dtype='datetime64[ns]', freq='D')"
      ]
     },
     "execution_count": 2,
     "metadata": {},
     "output_type": "execute_result"
    }
   ],
   "source": [
    "# Create DataFrame using a dictionary object, using series as well,\n",
    "d=pd.date_range('20200401',periods=15) # date equally placed\n",
    "d"
   ]
  },
  {
   "cell_type": "code",
   "execution_count": 3,
   "metadata": {},
   "outputs": [
    {
     "data": {
      "text/html": [
       "<div>\n",
       "<style scoped>\n",
       "    .dataframe tbody tr th:only-of-type {\n",
       "        vertical-align: middle;\n",
       "    }\n",
       "\n",
       "    .dataframe tbody tr th {\n",
       "        vertical-align: top;\n",
       "    }\n",
       "\n",
       "    .dataframe thead th {\n",
       "        text-align: right;\n",
       "    }\n",
       "</style>\n",
       "<table border=\"1\" class=\"dataframe\">\n",
       "  <thead>\n",
       "    <tr style=\"text-align: right;\">\n",
       "      <th></th>\n",
       "      <th>A</th>\n",
       "      <th>B</th>\n",
       "      <th>C</th>\n",
       "      <th>D</th>\n",
       "    </tr>\n",
       "  </thead>\n",
       "  <tbody>\n",
       "    <tr>\n",
       "      <th>2020-04-01</th>\n",
       "      <td>0.020830</td>\n",
       "      <td>1.488325</td>\n",
       "      <td>-0.526966</td>\n",
       "      <td>0.507678</td>\n",
       "    </tr>\n",
       "    <tr>\n",
       "      <th>2020-04-02</th>\n",
       "      <td>0.184991</td>\n",
       "      <td>-0.052052</td>\n",
       "      <td>0.090732</td>\n",
       "      <td>0.628219</td>\n",
       "    </tr>\n",
       "    <tr>\n",
       "      <th>2020-04-03</th>\n",
       "      <td>1.518487</td>\n",
       "      <td>1.718101</td>\n",
       "      <td>0.566045</td>\n",
       "      <td>-0.031820</td>\n",
       "    </tr>\n",
       "    <tr>\n",
       "      <th>2020-04-04</th>\n",
       "      <td>-0.923725</td>\n",
       "      <td>0.869330</td>\n",
       "      <td>0.478577</td>\n",
       "      <td>-0.458648</td>\n",
       "    </tr>\n",
       "    <tr>\n",
       "      <th>2020-04-05</th>\n",
       "      <td>2.771642</td>\n",
       "      <td>0.273704</td>\n",
       "      <td>0.928934</td>\n",
       "      <td>0.388425</td>\n",
       "    </tr>\n",
       "    <tr>\n",
       "      <th>2020-04-06</th>\n",
       "      <td>-0.959450</td>\n",
       "      <td>0.399248</td>\n",
       "      <td>0.576384</td>\n",
       "      <td>0.218715</td>\n",
       "    </tr>\n",
       "    <tr>\n",
       "      <th>2020-04-07</th>\n",
       "      <td>2.030242</td>\n",
       "      <td>1.396902</td>\n",
       "      <td>-1.286271</td>\n",
       "      <td>0.548502</td>\n",
       "    </tr>\n",
       "    <tr>\n",
       "      <th>2020-04-08</th>\n",
       "      <td>0.580824</td>\n",
       "      <td>2.859259</td>\n",
       "      <td>-0.465913</td>\n",
       "      <td>1.435027</td>\n",
       "    </tr>\n",
       "    <tr>\n",
       "      <th>2020-04-09</th>\n",
       "      <td>-1.391796</td>\n",
       "      <td>-1.676979</td>\n",
       "      <td>0.141662</td>\n",
       "      <td>-0.269506</td>\n",
       "    </tr>\n",
       "    <tr>\n",
       "      <th>2020-04-10</th>\n",
       "      <td>-1.006720</td>\n",
       "      <td>-0.633398</td>\n",
       "      <td>0.103555</td>\n",
       "      <td>1.524978</td>\n",
       "    </tr>\n",
       "    <tr>\n",
       "      <th>2020-04-11</th>\n",
       "      <td>0.166163</td>\n",
       "      <td>-0.881935</td>\n",
       "      <td>0.953748</td>\n",
       "      <td>-1.560479</td>\n",
       "    </tr>\n",
       "    <tr>\n",
       "      <th>2020-04-12</th>\n",
       "      <td>-0.188114</td>\n",
       "      <td>-0.018850</td>\n",
       "      <td>0.346787</td>\n",
       "      <td>0.054604</td>\n",
       "    </tr>\n",
       "    <tr>\n",
       "      <th>2020-04-13</th>\n",
       "      <td>0.144156</td>\n",
       "      <td>0.439615</td>\n",
       "      <td>0.085416</td>\n",
       "      <td>0.751822</td>\n",
       "    </tr>\n",
       "    <tr>\n",
       "      <th>2020-04-14</th>\n",
       "      <td>-1.159586</td>\n",
       "      <td>0.917795</td>\n",
       "      <td>-0.082060</td>\n",
       "      <td>0.243070</td>\n",
       "    </tr>\n",
       "    <tr>\n",
       "      <th>2020-04-15</th>\n",
       "      <td>1.609070</td>\n",
       "      <td>1.269079</td>\n",
       "      <td>-0.015960</td>\n",
       "      <td>0.681568</td>\n",
       "    </tr>\n",
       "  </tbody>\n",
       "</table>\n",
       "</div>"
      ],
      "text/plain": [
       "                   A         B         C         D\n",
       "2020-04-01  0.020830  1.488325 -0.526966  0.507678\n",
       "2020-04-02  0.184991 -0.052052  0.090732  0.628219\n",
       "2020-04-03  1.518487  1.718101  0.566045 -0.031820\n",
       "2020-04-04 -0.923725  0.869330  0.478577 -0.458648\n",
       "2020-04-05  2.771642  0.273704  0.928934  0.388425\n",
       "2020-04-06 -0.959450  0.399248  0.576384  0.218715\n",
       "2020-04-07  2.030242  1.396902 -1.286271  0.548502\n",
       "2020-04-08  0.580824  2.859259 -0.465913  1.435027\n",
       "2020-04-09 -1.391796 -1.676979  0.141662 -0.269506\n",
       "2020-04-10 -1.006720 -0.633398  0.103555  1.524978\n",
       "2020-04-11  0.166163 -0.881935  0.953748 -1.560479\n",
       "2020-04-12 -0.188114 -0.018850  0.346787  0.054604\n",
       "2020-04-13  0.144156  0.439615  0.085416  0.751822\n",
       "2020-04-14 -1.159586  0.917795 -0.082060  0.243070\n",
       "2020-04-15  1.609070  1.269079 -0.015960  0.681568"
      ]
     },
     "execution_count": 3,
     "metadata": {},
     "output_type": "execute_result"
    }
   ],
   "source": [
    "df=pd.DataFrame(np.random.randn(15,4), index=d,columns=['A','B','C','D'])\n",
    "df\n",
    "#"
   ]
  },
  {
   "cell_type": "code",
   "execution_count": 4,
   "metadata": {},
   "outputs": [],
   "source": [
    "import pandas as pd\n",
    "import numpy as np\n",
    "df1=pd.DataFrame({'A':[1,2,3,4],\n",
    "                 'B':pd.Timestamp('20200301'),\n",
    "                 'C':pd.Series(2, index=list(range(4)),dtype='float32'),\n",
    "                'D': np.array([5]*4,dtype='int32'),\n",
    "                'E':pd.Categorical(['true','false','true','false']),\n",
    "                'F':'Ashwini'})\n"
   ]
  },
  {
   "cell_type": "code",
   "execution_count": 5,
   "metadata": {},
   "outputs": [
    {
     "data": {
      "text/html": [
       "<div>\n",
       "<style scoped>\n",
       "    .dataframe tbody tr th:only-of-type {\n",
       "        vertical-align: middle;\n",
       "    }\n",
       "\n",
       "    .dataframe tbody tr th {\n",
       "        vertical-align: top;\n",
       "    }\n",
       "\n",
       "    .dataframe thead th {\n",
       "        text-align: right;\n",
       "    }\n",
       "</style>\n",
       "<table border=\"1\" class=\"dataframe\">\n",
       "  <thead>\n",
       "    <tr style=\"text-align: right;\">\n",
       "      <th></th>\n",
       "      <th>A</th>\n",
       "      <th>B</th>\n",
       "      <th>C</th>\n",
       "      <th>D</th>\n",
       "      <th>E</th>\n",
       "      <th>F</th>\n",
       "    </tr>\n",
       "  </thead>\n",
       "  <tbody>\n",
       "    <tr>\n",
       "      <th>0</th>\n",
       "      <td>1</td>\n",
       "      <td>2020-03-01</td>\n",
       "      <td>2.0</td>\n",
       "      <td>5</td>\n",
       "      <td>true</td>\n",
       "      <td>Ashwini</td>\n",
       "    </tr>\n",
       "    <tr>\n",
       "      <th>1</th>\n",
       "      <td>2</td>\n",
       "      <td>2020-03-01</td>\n",
       "      <td>2.0</td>\n",
       "      <td>5</td>\n",
       "      <td>false</td>\n",
       "      <td>Ashwini</td>\n",
       "    </tr>\n",
       "    <tr>\n",
       "      <th>2</th>\n",
       "      <td>3</td>\n",
       "      <td>2020-03-01</td>\n",
       "      <td>2.0</td>\n",
       "      <td>5</td>\n",
       "      <td>true</td>\n",
       "      <td>Ashwini</td>\n",
       "    </tr>\n",
       "    <tr>\n",
       "      <th>3</th>\n",
       "      <td>4</td>\n",
       "      <td>2020-03-01</td>\n",
       "      <td>2.0</td>\n",
       "      <td>5</td>\n",
       "      <td>false</td>\n",
       "      <td>Ashwini</td>\n",
       "    </tr>\n",
       "  </tbody>\n",
       "</table>\n",
       "</div>"
      ],
      "text/plain": [
       "   A          B    C  D      E        F\n",
       "0  1 2020-03-01  2.0  5   true  Ashwini\n",
       "1  2 2020-03-01  2.0  5  false  Ashwini\n",
       "2  3 2020-03-01  2.0  5   true  Ashwini\n",
       "3  4 2020-03-01  2.0  5  false  Ashwini"
      ]
     },
     "execution_count": 5,
     "metadata": {},
     "output_type": "execute_result"
    }
   ],
   "source": [
    "df1"
   ]
  },
  {
   "cell_type": "code",
   "execution_count": 6,
   "metadata": {},
   "outputs": [
    {
     "data": {
      "text/plain": [
       "A             int64\n",
       "B    datetime64[ns]\n",
       "C           float32\n",
       "D             int32\n",
       "E          category\n",
       "F            object\n",
       "dtype: object"
      ]
     },
     "execution_count": 6,
     "metadata": {},
     "output_type": "execute_result"
    }
   ],
   "source": [
    "df1.dtypes"
   ]
  },
  {
   "cell_type": "code",
   "execution_count": 7,
   "metadata": {},
   "outputs": [
    {
     "data": {
      "text/html": [
       "<div>\n",
       "<style scoped>\n",
       "    .dataframe tbody tr th:only-of-type {\n",
       "        vertical-align: middle;\n",
       "    }\n",
       "\n",
       "    .dataframe tbody tr th {\n",
       "        vertical-align: top;\n",
       "    }\n",
       "\n",
       "    .dataframe thead th {\n",
       "        text-align: right;\n",
       "    }\n",
       "</style>\n",
       "<table border=\"1\" class=\"dataframe\">\n",
       "  <thead>\n",
       "    <tr style=\"text-align: right;\">\n",
       "      <th></th>\n",
       "      <th>A</th>\n",
       "      <th>B</th>\n",
       "      <th>C</th>\n",
       "      <th>D</th>\n",
       "    </tr>\n",
       "  </thead>\n",
       "  <tbody>\n",
       "    <tr>\n",
       "      <th>2020-04-01</th>\n",
       "      <td>0.020830</td>\n",
       "      <td>1.488325</td>\n",
       "      <td>-0.526966</td>\n",
       "      <td>0.507678</td>\n",
       "    </tr>\n",
       "    <tr>\n",
       "      <th>2020-04-02</th>\n",
       "      <td>0.184991</td>\n",
       "      <td>-0.052052</td>\n",
       "      <td>0.090732</td>\n",
       "      <td>0.628219</td>\n",
       "    </tr>\n",
       "    <tr>\n",
       "      <th>2020-04-03</th>\n",
       "      <td>1.518487</td>\n",
       "      <td>1.718101</td>\n",
       "      <td>0.566045</td>\n",
       "      <td>-0.031820</td>\n",
       "    </tr>\n",
       "    <tr>\n",
       "      <th>2020-04-04</th>\n",
       "      <td>-0.923725</td>\n",
       "      <td>0.869330</td>\n",
       "      <td>0.478577</td>\n",
       "      <td>-0.458648</td>\n",
       "    </tr>\n",
       "    <tr>\n",
       "      <th>2020-04-05</th>\n",
       "      <td>2.771642</td>\n",
       "      <td>0.273704</td>\n",
       "      <td>0.928934</td>\n",
       "      <td>0.388425</td>\n",
       "    </tr>\n",
       "  </tbody>\n",
       "</table>\n",
       "</div>"
      ],
      "text/plain": [
       "                   A         B         C         D\n",
       "2020-04-01  0.020830  1.488325 -0.526966  0.507678\n",
       "2020-04-02  0.184991 -0.052052  0.090732  0.628219\n",
       "2020-04-03  1.518487  1.718101  0.566045 -0.031820\n",
       "2020-04-04 -0.923725  0.869330  0.478577 -0.458648\n",
       "2020-04-05  2.771642  0.273704  0.928934  0.388425"
      ]
     },
     "execution_count": 7,
     "metadata": {},
     "output_type": "execute_result"
    }
   ],
   "source": [
    "#How to View Data\n",
    "#to see first few values\n",
    "df.head()"
   ]
  },
  {
   "cell_type": "code",
   "execution_count": 8,
   "metadata": {},
   "outputs": [
    {
     "data": {
      "text/html": [
       "<div>\n",
       "<style scoped>\n",
       "    .dataframe tbody tr th:only-of-type {\n",
       "        vertical-align: middle;\n",
       "    }\n",
       "\n",
       "    .dataframe tbody tr th {\n",
       "        vertical-align: top;\n",
       "    }\n",
       "\n",
       "    .dataframe thead th {\n",
       "        text-align: right;\n",
       "    }\n",
       "</style>\n",
       "<table border=\"1\" class=\"dataframe\">\n",
       "  <thead>\n",
       "    <tr style=\"text-align: right;\">\n",
       "      <th></th>\n",
       "      <th>A</th>\n",
       "      <th>B</th>\n",
       "      <th>C</th>\n",
       "      <th>D</th>\n",
       "    </tr>\n",
       "  </thead>\n",
       "  <tbody>\n",
       "    <tr>\n",
       "      <th>2020-04-11</th>\n",
       "      <td>0.166163</td>\n",
       "      <td>-0.881935</td>\n",
       "      <td>0.953748</td>\n",
       "      <td>-1.560479</td>\n",
       "    </tr>\n",
       "    <tr>\n",
       "      <th>2020-04-12</th>\n",
       "      <td>-0.188114</td>\n",
       "      <td>-0.018850</td>\n",
       "      <td>0.346787</td>\n",
       "      <td>0.054604</td>\n",
       "    </tr>\n",
       "    <tr>\n",
       "      <th>2020-04-13</th>\n",
       "      <td>0.144156</td>\n",
       "      <td>0.439615</td>\n",
       "      <td>0.085416</td>\n",
       "      <td>0.751822</td>\n",
       "    </tr>\n",
       "    <tr>\n",
       "      <th>2020-04-14</th>\n",
       "      <td>-1.159586</td>\n",
       "      <td>0.917795</td>\n",
       "      <td>-0.082060</td>\n",
       "      <td>0.243070</td>\n",
       "    </tr>\n",
       "    <tr>\n",
       "      <th>2020-04-15</th>\n",
       "      <td>1.609070</td>\n",
       "      <td>1.269079</td>\n",
       "      <td>-0.015960</td>\n",
       "      <td>0.681568</td>\n",
       "    </tr>\n",
       "  </tbody>\n",
       "</table>\n",
       "</div>"
      ],
      "text/plain": [
       "                   A         B         C         D\n",
       "2020-04-11  0.166163 -0.881935  0.953748 -1.560479\n",
       "2020-04-12 -0.188114 -0.018850  0.346787  0.054604\n",
       "2020-04-13  0.144156  0.439615  0.085416  0.751822\n",
       "2020-04-14 -1.159586  0.917795 -0.082060  0.243070\n",
       "2020-04-15  1.609070  1.269079 -0.015960  0.681568"
      ]
     },
     "execution_count": 8,
     "metadata": {},
     "output_type": "execute_result"
    }
   ],
   "source": [
    "#How to View Data\n",
    "#to see last few values\n",
    "df.tail()"
   ]
  },
  {
   "cell_type": "code",
   "execution_count": 9,
   "metadata": {},
   "outputs": [
    {
     "data": {
      "text/plain": [
       "DatetimeIndex(['2020-04-01', '2020-04-02', '2020-04-03', '2020-04-04',\n",
       "               '2020-04-05', '2020-04-06', '2020-04-07', '2020-04-08',\n",
       "               '2020-04-09', '2020-04-10', '2020-04-11', '2020-04-12',\n",
       "               '2020-04-13', '2020-04-14', '2020-04-15'],\n",
       "              dtype='datetime64[ns]', freq='D')"
      ]
     },
     "execution_count": 9,
     "metadata": {},
     "output_type": "execute_result"
    }
   ],
   "source": [
    "#How to View Data\n",
    "#to see index values\n",
    "df.index"
   ]
  },
  {
   "cell_type": "code",
   "execution_count": 10,
   "metadata": {},
   "outputs": [
    {
     "data": {
      "text/plain": [
       "Index(['A', 'B', 'C', 'D'], dtype='object')"
      ]
     },
     "execution_count": 10,
     "metadata": {},
     "output_type": "execute_result"
    }
   ],
   "source": [
    "#to know the columns used\n",
    "df.columns"
   ]
  },
  {
   "cell_type": "code",
   "execution_count": 11,
   "metadata": {},
   "outputs": [
    {
     "data": {
      "text/plain": [
       "array([[ 0.02083042,  1.48832458, -0.5269661 ,  0.50767802],\n",
       "       [ 0.18499113, -0.05205235,  0.0907317 ,  0.62821879],\n",
       "       [ 1.5184866 ,  1.71810143,  0.56604531, -0.03182033],\n",
       "       [-0.92372465,  0.8693295 ,  0.47857707, -0.45864764],\n",
       "       [ 2.77164162,  0.27370355,  0.92893423,  0.38842522],\n",
       "       [-0.9594504 ,  0.39924764,  0.57638403,  0.21871542],\n",
       "       [ 2.03024232,  1.39690185, -1.286271  ,  0.54850155],\n",
       "       [ 0.58082411,  2.8592591 , -0.46591328,  1.43502664],\n",
       "       [-1.39179563, -1.67697934,  0.14166192, -0.26950579],\n",
       "       [-1.00672004, -0.63339795,  0.1035553 ,  1.5249778 ],\n",
       "       [ 0.16616266, -0.88193489,  0.95374804, -1.56047945],\n",
       "       [-0.18811382, -0.01884965,  0.346787  ,  0.0546042 ],\n",
       "       [ 0.14415632,  0.43961544,  0.08541585,  0.75182173],\n",
       "       [-1.15958593,  0.9177946 , -0.08205997,  0.24307028],\n",
       "       [ 1.60907039,  1.26907878, -0.01596007,  0.6815681 ]])"
      ]
     },
     "execution_count": 11,
     "metadata": {},
     "output_type": "execute_result"
    }
   ],
   "source": [
    "#to convert the DataFrame as numpy array\n",
    "df.to_numpy()"
   ]
  },
  {
   "cell_type": "code",
   "execution_count": 12,
   "metadata": {},
   "outputs": [
    {
     "data": {
      "text/html": [
       "<div>\n",
       "<style scoped>\n",
       "    .dataframe tbody tr th:only-of-type {\n",
       "        vertical-align: middle;\n",
       "    }\n",
       "\n",
       "    .dataframe tbody tr th {\n",
       "        vertical-align: top;\n",
       "    }\n",
       "\n",
       "    .dataframe thead th {\n",
       "        text-align: right;\n",
       "    }\n",
       "</style>\n",
       "<table border=\"1\" class=\"dataframe\">\n",
       "  <thead>\n",
       "    <tr style=\"text-align: right;\">\n",
       "      <th></th>\n",
       "      <th>A</th>\n",
       "      <th>B</th>\n",
       "      <th>C</th>\n",
       "      <th>D</th>\n",
       "    </tr>\n",
       "  </thead>\n",
       "  <tbody>\n",
       "    <tr>\n",
       "      <th>count</th>\n",
       "      <td>15.000000</td>\n",
       "      <td>15.000000</td>\n",
       "      <td>15.000000</td>\n",
       "      <td>15.000000</td>\n",
       "    </tr>\n",
       "    <tr>\n",
       "      <th>mean</th>\n",
       "      <td>0.226468</td>\n",
       "      <td>0.557876</td>\n",
       "      <td>0.126311</td>\n",
       "      <td>0.310810</td>\n",
       "    </tr>\n",
       "    <tr>\n",
       "      <th>std</th>\n",
       "      <td>1.266443</td>\n",
       "      <td>1.141923</td>\n",
       "      <td>0.581729</td>\n",
       "      <td>0.751128</td>\n",
       "    </tr>\n",
       "    <tr>\n",
       "      <th>min</th>\n",
       "      <td>-1.391796</td>\n",
       "      <td>-1.676979</td>\n",
       "      <td>-1.286271</td>\n",
       "      <td>-1.560479</td>\n",
       "    </tr>\n",
       "    <tr>\n",
       "      <th>25%</th>\n",
       "      <td>-0.941588</td>\n",
       "      <td>-0.035451</td>\n",
       "      <td>-0.049010</td>\n",
       "      <td>0.011392</td>\n",
       "    </tr>\n",
       "    <tr>\n",
       "      <th>50%</th>\n",
       "      <td>0.144156</td>\n",
       "      <td>0.439615</td>\n",
       "      <td>0.103555</td>\n",
       "      <td>0.388425</td>\n",
       "    </tr>\n",
       "    <tr>\n",
       "      <th>75%</th>\n",
       "      <td>1.049655</td>\n",
       "      <td>1.332990</td>\n",
       "      <td>0.522311</td>\n",
       "      <td>0.654893</td>\n",
       "    </tr>\n",
       "    <tr>\n",
       "      <th>max</th>\n",
       "      <td>2.771642</td>\n",
       "      <td>2.859259</td>\n",
       "      <td>0.953748</td>\n",
       "      <td>1.524978</td>\n",
       "    </tr>\n",
       "  </tbody>\n",
       "</table>\n",
       "</div>"
      ],
      "text/plain": [
       "               A          B          C          D\n",
       "count  15.000000  15.000000  15.000000  15.000000\n",
       "mean    0.226468   0.557876   0.126311   0.310810\n",
       "std     1.266443   1.141923   0.581729   0.751128\n",
       "min    -1.391796  -1.676979  -1.286271  -1.560479\n",
       "25%    -0.941588  -0.035451  -0.049010   0.011392\n",
       "50%     0.144156   0.439615   0.103555   0.388425\n",
       "75%     1.049655   1.332990   0.522311   0.654893\n",
       "max     2.771642   2.859259   0.953748   1.524978"
      ]
     },
     "execution_count": 12,
     "metadata": {},
     "output_type": "execute_result"
    }
   ],
   "source": [
    "#to understand about the DataFrame\n",
    "df.describe()"
   ]
  },
  {
   "cell_type": "code",
   "execution_count": 13,
   "metadata": {},
   "outputs": [
    {
     "data": {
      "text/html": [
       "<div>\n",
       "<style scoped>\n",
       "    .dataframe tbody tr th:only-of-type {\n",
       "        vertical-align: middle;\n",
       "    }\n",
       "\n",
       "    .dataframe tbody tr th {\n",
       "        vertical-align: top;\n",
       "    }\n",
       "\n",
       "    .dataframe thead th {\n",
       "        text-align: right;\n",
       "    }\n",
       "</style>\n",
       "<table border=\"1\" class=\"dataframe\">\n",
       "  <thead>\n",
       "    <tr style=\"text-align: right;\">\n",
       "      <th></th>\n",
       "      <th>A</th>\n",
       "      <th>B</th>\n",
       "      <th>C</th>\n",
       "      <th>D</th>\n",
       "    </tr>\n",
       "  </thead>\n",
       "  <tbody>\n",
       "    <tr>\n",
       "      <th>2020-04-15</th>\n",
       "      <td>1.609070</td>\n",
       "      <td>1.269079</td>\n",
       "      <td>-0.015960</td>\n",
       "      <td>0.681568</td>\n",
       "    </tr>\n",
       "    <tr>\n",
       "      <th>2020-04-14</th>\n",
       "      <td>-1.159586</td>\n",
       "      <td>0.917795</td>\n",
       "      <td>-0.082060</td>\n",
       "      <td>0.243070</td>\n",
       "    </tr>\n",
       "    <tr>\n",
       "      <th>2020-04-13</th>\n",
       "      <td>0.144156</td>\n",
       "      <td>0.439615</td>\n",
       "      <td>0.085416</td>\n",
       "      <td>0.751822</td>\n",
       "    </tr>\n",
       "    <tr>\n",
       "      <th>2020-04-12</th>\n",
       "      <td>-0.188114</td>\n",
       "      <td>-0.018850</td>\n",
       "      <td>0.346787</td>\n",
       "      <td>0.054604</td>\n",
       "    </tr>\n",
       "    <tr>\n",
       "      <th>2020-04-11</th>\n",
       "      <td>0.166163</td>\n",
       "      <td>-0.881935</td>\n",
       "      <td>0.953748</td>\n",
       "      <td>-1.560479</td>\n",
       "    </tr>\n",
       "    <tr>\n",
       "      <th>2020-04-10</th>\n",
       "      <td>-1.006720</td>\n",
       "      <td>-0.633398</td>\n",
       "      <td>0.103555</td>\n",
       "      <td>1.524978</td>\n",
       "    </tr>\n",
       "    <tr>\n",
       "      <th>2020-04-09</th>\n",
       "      <td>-1.391796</td>\n",
       "      <td>-1.676979</td>\n",
       "      <td>0.141662</td>\n",
       "      <td>-0.269506</td>\n",
       "    </tr>\n",
       "    <tr>\n",
       "      <th>2020-04-08</th>\n",
       "      <td>0.580824</td>\n",
       "      <td>2.859259</td>\n",
       "      <td>-0.465913</td>\n",
       "      <td>1.435027</td>\n",
       "    </tr>\n",
       "    <tr>\n",
       "      <th>2020-04-07</th>\n",
       "      <td>2.030242</td>\n",
       "      <td>1.396902</td>\n",
       "      <td>-1.286271</td>\n",
       "      <td>0.548502</td>\n",
       "    </tr>\n",
       "    <tr>\n",
       "      <th>2020-04-06</th>\n",
       "      <td>-0.959450</td>\n",
       "      <td>0.399248</td>\n",
       "      <td>0.576384</td>\n",
       "      <td>0.218715</td>\n",
       "    </tr>\n",
       "    <tr>\n",
       "      <th>2020-04-05</th>\n",
       "      <td>2.771642</td>\n",
       "      <td>0.273704</td>\n",
       "      <td>0.928934</td>\n",
       "      <td>0.388425</td>\n",
       "    </tr>\n",
       "    <tr>\n",
       "      <th>2020-04-04</th>\n",
       "      <td>-0.923725</td>\n",
       "      <td>0.869330</td>\n",
       "      <td>0.478577</td>\n",
       "      <td>-0.458648</td>\n",
       "    </tr>\n",
       "    <tr>\n",
       "      <th>2020-04-03</th>\n",
       "      <td>1.518487</td>\n",
       "      <td>1.718101</td>\n",
       "      <td>0.566045</td>\n",
       "      <td>-0.031820</td>\n",
       "    </tr>\n",
       "    <tr>\n",
       "      <th>2020-04-02</th>\n",
       "      <td>0.184991</td>\n",
       "      <td>-0.052052</td>\n",
       "      <td>0.090732</td>\n",
       "      <td>0.628219</td>\n",
       "    </tr>\n",
       "    <tr>\n",
       "      <th>2020-04-01</th>\n",
       "      <td>0.020830</td>\n",
       "      <td>1.488325</td>\n",
       "      <td>-0.526966</td>\n",
       "      <td>0.507678</td>\n",
       "    </tr>\n",
       "  </tbody>\n",
       "</table>\n",
       "</div>"
      ],
      "text/plain": [
       "                   A         B         C         D\n",
       "2020-04-15  1.609070  1.269079 -0.015960  0.681568\n",
       "2020-04-14 -1.159586  0.917795 -0.082060  0.243070\n",
       "2020-04-13  0.144156  0.439615  0.085416  0.751822\n",
       "2020-04-12 -0.188114 -0.018850  0.346787  0.054604\n",
       "2020-04-11  0.166163 -0.881935  0.953748 -1.560479\n",
       "2020-04-10 -1.006720 -0.633398  0.103555  1.524978\n",
       "2020-04-09 -1.391796 -1.676979  0.141662 -0.269506\n",
       "2020-04-08  0.580824  2.859259 -0.465913  1.435027\n",
       "2020-04-07  2.030242  1.396902 -1.286271  0.548502\n",
       "2020-04-06 -0.959450  0.399248  0.576384  0.218715\n",
       "2020-04-05  2.771642  0.273704  0.928934  0.388425\n",
       "2020-04-04 -0.923725  0.869330  0.478577 -0.458648\n",
       "2020-04-03  1.518487  1.718101  0.566045 -0.031820\n",
       "2020-04-02  0.184991 -0.052052  0.090732  0.628219\n",
       "2020-04-01  0.020830  1.488325 -0.526966  0.507678"
      ]
     },
     "execution_count": 13,
     "metadata": {},
     "output_type": "execute_result"
    }
   ],
   "source": [
    "#to sort through index (ascending/Descending)\n",
    "df.sort_index(axis=0, ascending= False)"
   ]
  },
  {
   "cell_type": "code",
   "execution_count": 14,
   "metadata": {},
   "outputs": [
    {
     "data": {
      "text/html": [
       "<div>\n",
       "<style scoped>\n",
       "    .dataframe tbody tr th:only-of-type {\n",
       "        vertical-align: middle;\n",
       "    }\n",
       "\n",
       "    .dataframe tbody tr th {\n",
       "        vertical-align: top;\n",
       "    }\n",
       "\n",
       "    .dataframe thead th {\n",
       "        text-align: right;\n",
       "    }\n",
       "</style>\n",
       "<table border=\"1\" class=\"dataframe\">\n",
       "  <thead>\n",
       "    <tr style=\"text-align: right;\">\n",
       "      <th></th>\n",
       "      <th>A</th>\n",
       "      <th>B</th>\n",
       "      <th>C</th>\n",
       "      <th>D</th>\n",
       "    </tr>\n",
       "  </thead>\n",
       "  <tbody>\n",
       "    <tr>\n",
       "      <th>2020-04-07</th>\n",
       "      <td>2.030242</td>\n",
       "      <td>1.396902</td>\n",
       "      <td>-1.286271</td>\n",
       "      <td>0.548502</td>\n",
       "    </tr>\n",
       "    <tr>\n",
       "      <th>2020-04-01</th>\n",
       "      <td>0.020830</td>\n",
       "      <td>1.488325</td>\n",
       "      <td>-0.526966</td>\n",
       "      <td>0.507678</td>\n",
       "    </tr>\n",
       "    <tr>\n",
       "      <th>2020-04-08</th>\n",
       "      <td>0.580824</td>\n",
       "      <td>2.859259</td>\n",
       "      <td>-0.465913</td>\n",
       "      <td>1.435027</td>\n",
       "    </tr>\n",
       "    <tr>\n",
       "      <th>2020-04-14</th>\n",
       "      <td>-1.159586</td>\n",
       "      <td>0.917795</td>\n",
       "      <td>-0.082060</td>\n",
       "      <td>0.243070</td>\n",
       "    </tr>\n",
       "    <tr>\n",
       "      <th>2020-04-15</th>\n",
       "      <td>1.609070</td>\n",
       "      <td>1.269079</td>\n",
       "      <td>-0.015960</td>\n",
       "      <td>0.681568</td>\n",
       "    </tr>\n",
       "    <tr>\n",
       "      <th>2020-04-13</th>\n",
       "      <td>0.144156</td>\n",
       "      <td>0.439615</td>\n",
       "      <td>0.085416</td>\n",
       "      <td>0.751822</td>\n",
       "    </tr>\n",
       "    <tr>\n",
       "      <th>2020-04-02</th>\n",
       "      <td>0.184991</td>\n",
       "      <td>-0.052052</td>\n",
       "      <td>0.090732</td>\n",
       "      <td>0.628219</td>\n",
       "    </tr>\n",
       "    <tr>\n",
       "      <th>2020-04-10</th>\n",
       "      <td>-1.006720</td>\n",
       "      <td>-0.633398</td>\n",
       "      <td>0.103555</td>\n",
       "      <td>1.524978</td>\n",
       "    </tr>\n",
       "    <tr>\n",
       "      <th>2020-04-09</th>\n",
       "      <td>-1.391796</td>\n",
       "      <td>-1.676979</td>\n",
       "      <td>0.141662</td>\n",
       "      <td>-0.269506</td>\n",
       "    </tr>\n",
       "    <tr>\n",
       "      <th>2020-04-12</th>\n",
       "      <td>-0.188114</td>\n",
       "      <td>-0.018850</td>\n",
       "      <td>0.346787</td>\n",
       "      <td>0.054604</td>\n",
       "    </tr>\n",
       "    <tr>\n",
       "      <th>2020-04-04</th>\n",
       "      <td>-0.923725</td>\n",
       "      <td>0.869330</td>\n",
       "      <td>0.478577</td>\n",
       "      <td>-0.458648</td>\n",
       "    </tr>\n",
       "    <tr>\n",
       "      <th>2020-04-03</th>\n",
       "      <td>1.518487</td>\n",
       "      <td>1.718101</td>\n",
       "      <td>0.566045</td>\n",
       "      <td>-0.031820</td>\n",
       "    </tr>\n",
       "    <tr>\n",
       "      <th>2020-04-06</th>\n",
       "      <td>-0.959450</td>\n",
       "      <td>0.399248</td>\n",
       "      <td>0.576384</td>\n",
       "      <td>0.218715</td>\n",
       "    </tr>\n",
       "    <tr>\n",
       "      <th>2020-04-05</th>\n",
       "      <td>2.771642</td>\n",
       "      <td>0.273704</td>\n",
       "      <td>0.928934</td>\n",
       "      <td>0.388425</td>\n",
       "    </tr>\n",
       "    <tr>\n",
       "      <th>2020-04-11</th>\n",
       "      <td>0.166163</td>\n",
       "      <td>-0.881935</td>\n",
       "      <td>0.953748</td>\n",
       "      <td>-1.560479</td>\n",
       "    </tr>\n",
       "  </tbody>\n",
       "</table>\n",
       "</div>"
      ],
      "text/plain": [
       "                   A         B         C         D\n",
       "2020-04-07  2.030242  1.396902 -1.286271  0.548502\n",
       "2020-04-01  0.020830  1.488325 -0.526966  0.507678\n",
       "2020-04-08  0.580824  2.859259 -0.465913  1.435027\n",
       "2020-04-14 -1.159586  0.917795 -0.082060  0.243070\n",
       "2020-04-15  1.609070  1.269079 -0.015960  0.681568\n",
       "2020-04-13  0.144156  0.439615  0.085416  0.751822\n",
       "2020-04-02  0.184991 -0.052052  0.090732  0.628219\n",
       "2020-04-10 -1.006720 -0.633398  0.103555  1.524978\n",
       "2020-04-09 -1.391796 -1.676979  0.141662 -0.269506\n",
       "2020-04-12 -0.188114 -0.018850  0.346787  0.054604\n",
       "2020-04-04 -0.923725  0.869330  0.478577 -0.458648\n",
       "2020-04-03  1.518487  1.718101  0.566045 -0.031820\n",
       "2020-04-06 -0.959450  0.399248  0.576384  0.218715\n",
       "2020-04-05  2.771642  0.273704  0.928934  0.388425\n",
       "2020-04-11  0.166163 -0.881935  0.953748 -1.560479"
      ]
     },
     "execution_count": 14,
     "metadata": {},
     "output_type": "execute_result"
    }
   ],
   "source": [
    "#to sort through one column\n",
    "df.sort_values(by='C')"
   ]
  },
  {
   "cell_type": "code",
   "execution_count": 15,
   "metadata": {},
   "outputs": [
    {
     "data": {
      "text/plain": [
       "2020-04-01    0.507678\n",
       "2020-04-02    0.628219\n",
       "2020-04-03   -0.031820\n",
       "2020-04-04   -0.458648\n",
       "2020-04-05    0.388425\n",
       "2020-04-06    0.218715\n",
       "2020-04-07    0.548502\n",
       "2020-04-08    1.435027\n",
       "2020-04-09   -0.269506\n",
       "2020-04-10    1.524978\n",
       "2020-04-11   -1.560479\n",
       "2020-04-12    0.054604\n",
       "2020-04-13    0.751822\n",
       "2020-04-14    0.243070\n",
       "2020-04-15    0.681568\n",
       "Freq: D, Name: D, dtype: float64"
      ]
     },
     "execution_count": 15,
     "metadata": {},
     "output_type": "execute_result"
    }
   ],
   "source": [
    "#To extract single column\n",
    "df['D']"
   ]
  },
  {
   "cell_type": "code",
   "execution_count": 16,
   "metadata": {},
   "outputs": [
    {
     "data": {
      "text/html": [
       "<div>\n",
       "<style scoped>\n",
       "    .dataframe tbody tr th:only-of-type {\n",
       "        vertical-align: middle;\n",
       "    }\n",
       "\n",
       "    .dataframe tbody tr th {\n",
       "        vertical-align: top;\n",
       "    }\n",
       "\n",
       "    .dataframe thead th {\n",
       "        text-align: right;\n",
       "    }\n",
       "</style>\n",
       "<table border=\"1\" class=\"dataframe\">\n",
       "  <thead>\n",
       "    <tr style=\"text-align: right;\">\n",
       "      <th></th>\n",
       "      <th>A</th>\n",
       "      <th>B</th>\n",
       "      <th>C</th>\n",
       "      <th>D</th>\n",
       "    </tr>\n",
       "  </thead>\n",
       "  <tbody>\n",
       "    <tr>\n",
       "      <th>2020-04-01</th>\n",
       "      <td>0.020830</td>\n",
       "      <td>1.488325</td>\n",
       "      <td>-0.526966</td>\n",
       "      <td>0.507678</td>\n",
       "    </tr>\n",
       "    <tr>\n",
       "      <th>2020-04-02</th>\n",
       "      <td>0.184991</td>\n",
       "      <td>-0.052052</td>\n",
       "      <td>0.090732</td>\n",
       "      <td>0.628219</td>\n",
       "    </tr>\n",
       "    <tr>\n",
       "      <th>2020-04-03</th>\n",
       "      <td>1.518487</td>\n",
       "      <td>1.718101</td>\n",
       "      <td>0.566045</td>\n",
       "      <td>-0.031820</td>\n",
       "    </tr>\n",
       "  </tbody>\n",
       "</table>\n",
       "</div>"
      ],
      "text/plain": [
       "                   A         B         C         D\n",
       "2020-04-01  0.020830  1.488325 -0.526966  0.507678\n",
       "2020-04-02  0.184991 -0.052052  0.090732  0.628219\n",
       "2020-04-03  1.518487  1.718101  0.566045 -0.031820"
      ]
     },
     "execution_count": 16,
     "metadata": {},
     "output_type": "execute_result"
    }
   ],
   "source": [
    "#slicing the rows(starting from 1st value to 3rd value)\n",
    "df[0:3]"
   ]
  },
  {
   "cell_type": "code",
   "execution_count": 17,
   "metadata": {},
   "outputs": [
    {
     "data": {
      "text/plain": [
       "A    0.020830\n",
       "B    1.488325\n",
       "C   -0.526966\n",
       "D    0.507678\n",
       "Name: 2020-04-01 00:00:00, dtype: float64"
      ]
     },
     "execution_count": 17,
     "metadata": {},
     "output_type": "execute_result"
    }
   ],
   "source": [
    "#selecting the data using labels\n",
    "df.loc[d[0]]"
   ]
  },
  {
   "cell_type": "code",
   "execution_count": 18,
   "metadata": {},
   "outputs": [
    {
     "data": {
      "text/html": [
       "<div>\n",
       "<style scoped>\n",
       "    .dataframe tbody tr th:only-of-type {\n",
       "        vertical-align: middle;\n",
       "    }\n",
       "\n",
       "    .dataframe tbody tr th {\n",
       "        vertical-align: top;\n",
       "    }\n",
       "\n",
       "    .dataframe thead th {\n",
       "        text-align: right;\n",
       "    }\n",
       "</style>\n",
       "<table border=\"1\" class=\"dataframe\">\n",
       "  <thead>\n",
       "    <tr style=\"text-align: right;\">\n",
       "      <th></th>\n",
       "      <th>D</th>\n",
       "      <th>C</th>\n",
       "      <th>A</th>\n",
       "    </tr>\n",
       "  </thead>\n",
       "  <tbody>\n",
       "    <tr>\n",
       "      <th>2020-04-02</th>\n",
       "      <td>0.628219</td>\n",
       "      <td>0.090732</td>\n",
       "      <td>0.184991</td>\n",
       "    </tr>\n",
       "    <tr>\n",
       "      <th>2020-04-03</th>\n",
       "      <td>-0.031820</td>\n",
       "      <td>0.566045</td>\n",
       "      <td>1.518487</td>\n",
       "    </tr>\n",
       "    <tr>\n",
       "      <th>2020-04-04</th>\n",
       "      <td>-0.458648</td>\n",
       "      <td>0.478577</td>\n",
       "      <td>-0.923725</td>\n",
       "    </tr>\n",
       "    <tr>\n",
       "      <th>2020-04-05</th>\n",
       "      <td>0.388425</td>\n",
       "      <td>0.928934</td>\n",
       "      <td>2.771642</td>\n",
       "    </tr>\n",
       "  </tbody>\n",
       "</table>\n",
       "</div>"
      ],
      "text/plain": [
       "                   D         C         A\n",
       "2020-04-02  0.628219  0.090732  0.184991\n",
       "2020-04-03 -0.031820  0.566045  1.518487\n",
       "2020-04-04 -0.458648  0.478577 -0.923725\n",
       "2020-04-05  0.388425  0.928934  2.771642"
      ]
     },
     "execution_count": 18,
     "metadata": {},
     "output_type": "execute_result"
    }
   ],
   "source": [
    "#Slicing all the values from 0 to 14 for D and C column\n",
    "\n",
    "df.loc[d[1:5] ,['D','C','A']]"
   ]
  },
  {
   "cell_type": "code",
   "execution_count": 19,
   "metadata": {},
   "outputs": [
    {
     "data": {
      "text/html": [
       "<div>\n",
       "<style scoped>\n",
       "    .dataframe tbody tr th:only-of-type {\n",
       "        vertical-align: middle;\n",
       "    }\n",
       "\n",
       "    .dataframe tbody tr th {\n",
       "        vertical-align: top;\n",
       "    }\n",
       "\n",
       "    .dataframe thead th {\n",
       "        text-align: right;\n",
       "    }\n",
       "</style>\n",
       "<table border=\"1\" class=\"dataframe\">\n",
       "  <thead>\n",
       "    <tr style=\"text-align: right;\">\n",
       "      <th></th>\n",
       "      <th>D</th>\n",
       "      <th>C</th>\n",
       "    </tr>\n",
       "  </thead>\n",
       "  <tbody>\n",
       "    <tr>\n",
       "      <th>2020-04-03</th>\n",
       "      <td>-0.031820</td>\n",
       "      <td>0.566045</td>\n",
       "    </tr>\n",
       "    <tr>\n",
       "      <th>2020-04-04</th>\n",
       "      <td>-0.458648</td>\n",
       "      <td>0.478577</td>\n",
       "    </tr>\n",
       "    <tr>\n",
       "      <th>2020-04-05</th>\n",
       "      <td>0.388425</td>\n",
       "      <td>0.928934</td>\n",
       "    </tr>\n",
       "    <tr>\n",
       "      <th>2020-04-06</th>\n",
       "      <td>0.218715</td>\n",
       "      <td>0.576384</td>\n",
       "    </tr>\n",
       "    <tr>\n",
       "      <th>2020-04-07</th>\n",
       "      <td>0.548502</td>\n",
       "      <td>-1.286271</td>\n",
       "    </tr>\n",
       "  </tbody>\n",
       "</table>\n",
       "</div>"
      ],
      "text/plain": [
       "                   D         C\n",
       "2020-04-03 -0.031820  0.566045\n",
       "2020-04-04 -0.458648  0.478577\n",
       "2020-04-05  0.388425  0.928934\n",
       "2020-04-06  0.218715  0.576384\n",
       "2020-04-07  0.548502 -1.286271"
      ]
     },
     "execution_count": 19,
     "metadata": {},
     "output_type": "execute_result"
    }
   ],
   "source": [
    "#Slicing the values from DataFrames through index range 1st april 2020 t0 6th April 2020\n",
    "\n",
    "df.loc['20200403':'20200407',['D','C']]"
   ]
  },
  {
   "cell_type": "code",
   "execution_count": 20,
   "metadata": {},
   "outputs": [
    {
     "data": {
      "text/plain": [
       "D    0.218715\n",
       "C    0.576384\n",
       "A   -0.959450\n",
       "Name: 2020-04-06 00:00:00, dtype: float64"
      ]
     },
     "execution_count": 20,
     "metadata": {},
     "output_type": "execute_result"
    }
   ],
   "source": [
    "#from the DataFrame, just look for one index value having columns D and C\n",
    "df.loc['20200406',['D','C','A']]"
   ]
  },
  {
   "cell_type": "code",
   "execution_count": 21,
   "metadata": {},
   "outputs": [
    {
     "data": {
      "text/plain": [
       "D    0.218715\n",
       "C    0.576384\n",
       "Name: 2020-04-06 00:00:00, dtype: float64"
      ]
     },
     "execution_count": 21,
     "metadata": {},
     "output_type": "execute_result"
    }
   ],
   "source": [
    "#from the DataFrame, just look for one index value having columns D and C\n",
    "df.loc[d[5],['D','C']]"
   ]
  },
  {
   "cell_type": "code",
   "execution_count": 22,
   "metadata": {},
   "outputs": [
    {
     "data": {
      "text/plain": [
       "0.57638402960533"
      ]
     },
     "execution_count": 22,
     "metadata": {},
     "output_type": "execute_result"
    }
   ],
   "source": [
    "#if i want to see just one value of the DataFrame using index number and instad of loc, I use at\n",
    "df.at[d[5],'C']"
   ]
  },
  {
   "cell_type": "code",
   "execution_count": 23,
   "metadata": {},
   "outputs": [
    {
     "data": {
      "text/plain": [
       "A   -0.923725\n",
       "B    0.869330\n",
       "C    0.478577\n",
       "D   -0.458648\n",
       "Name: 2020-04-04 00:00:00, dtype: float64"
      ]
     },
     "execution_count": 23,
     "metadata": {},
     "output_type": "execute_result"
    }
   ],
   "source": [
    "#select a value using position around a dataframe\n",
    "df.iloc[3]"
   ]
  },
  {
   "cell_type": "code",
   "execution_count": 24,
   "metadata": {},
   "outputs": [
    {
     "data": {
      "text/html": [
       "<div>\n",
       "<style scoped>\n",
       "    .dataframe tbody tr th:only-of-type {\n",
       "        vertical-align: middle;\n",
       "    }\n",
       "\n",
       "    .dataframe tbody tr th {\n",
       "        vertical-align: top;\n",
       "    }\n",
       "\n",
       "    .dataframe thead th {\n",
       "        text-align: right;\n",
       "    }\n",
       "</style>\n",
       "<table border=\"1\" class=\"dataframe\">\n",
       "  <thead>\n",
       "    <tr style=\"text-align: right;\">\n",
       "      <th></th>\n",
       "      <th>A</th>\n",
       "      <th>B</th>\n",
       "      <th>C</th>\n",
       "      <th>D</th>\n",
       "    </tr>\n",
       "  </thead>\n",
       "  <tbody>\n",
       "    <tr>\n",
       "      <th>2020-04-04</th>\n",
       "      <td>-0.923725</td>\n",
       "      <td>0.869330</td>\n",
       "      <td>0.478577</td>\n",
       "      <td>-0.458648</td>\n",
       "    </tr>\n",
       "    <tr>\n",
       "      <th>2020-04-05</th>\n",
       "      <td>2.771642</td>\n",
       "      <td>0.273704</td>\n",
       "      <td>0.928934</td>\n",
       "      <td>0.388425</td>\n",
       "    </tr>\n",
       "  </tbody>\n",
       "</table>\n",
       "</div>"
      ],
      "text/plain": [
       "                   A         B         C         D\n",
       "2020-04-04 -0.923725  0.869330  0.478577 -0.458648\n",
       "2020-04-05  2.771642  0.273704  0.928934  0.388425"
      ]
     },
     "execution_count": 24,
     "metadata": {},
     "output_type": "execute_result"
    }
   ],
   "source": [
    "#select range value using position around a dataframe\n",
    "df.iloc[3:5]"
   ]
  },
  {
   "cell_type": "code",
   "execution_count": 25,
   "metadata": {},
   "outputs": [
    {
     "data": {
      "text/html": [
       "<div>\n",
       "<style scoped>\n",
       "    .dataframe tbody tr th:only-of-type {\n",
       "        vertical-align: middle;\n",
       "    }\n",
       "\n",
       "    .dataframe tbody tr th {\n",
       "        vertical-align: top;\n",
       "    }\n",
       "\n",
       "    .dataframe thead th {\n",
       "        text-align: right;\n",
       "    }\n",
       "</style>\n",
       "<table border=\"1\" class=\"dataframe\">\n",
       "  <thead>\n",
       "    <tr style=\"text-align: right;\">\n",
       "      <th></th>\n",
       "      <th>A</th>\n",
       "      <th>B</th>\n",
       "    </tr>\n",
       "  </thead>\n",
       "  <tbody>\n",
       "    <tr>\n",
       "      <th>2020-04-04</th>\n",
       "      <td>-0.923725</td>\n",
       "      <td>0.869330</td>\n",
       "    </tr>\n",
       "    <tr>\n",
       "      <th>2020-04-05</th>\n",
       "      <td>2.771642</td>\n",
       "      <td>0.273704</td>\n",
       "    </tr>\n",
       "  </tbody>\n",
       "</table>\n",
       "</div>"
      ],
      "text/plain": [
       "                   A         B\n",
       "2020-04-04 -0.923725  0.869330\n",
       "2020-04-05  2.771642  0.273704"
      ]
     },
     "execution_count": 25,
     "metadata": {},
     "output_type": "execute_result"
    }
   ],
   "source": [
    "#select range value using position around a dataframe, and furthur slicing\n",
    "df.iloc[3:5,0:2]"
   ]
  },
  {
   "cell_type": "code",
   "execution_count": 26,
   "metadata": {},
   "outputs": [
    {
     "data": {
      "text/html": [
       "<div>\n",
       "<style scoped>\n",
       "    .dataframe tbody tr th:only-of-type {\n",
       "        vertical-align: middle;\n",
       "    }\n",
       "\n",
       "    .dataframe tbody tr th {\n",
       "        vertical-align: top;\n",
       "    }\n",
       "\n",
       "    .dataframe thead th {\n",
       "        text-align: right;\n",
       "    }\n",
       "</style>\n",
       "<table border=\"1\" class=\"dataframe\">\n",
       "  <thead>\n",
       "    <tr style=\"text-align: right;\">\n",
       "      <th></th>\n",
       "      <th>A</th>\n",
       "      <th>B</th>\n",
       "      <th>C</th>\n",
       "      <th>D</th>\n",
       "    </tr>\n",
       "  </thead>\n",
       "  <tbody>\n",
       "    <tr>\n",
       "      <th>2020-04-03</th>\n",
       "      <td>1.518487</td>\n",
       "      <td>1.718101</td>\n",
       "      <td>0.566045</td>\n",
       "      <td>-0.031820</td>\n",
       "    </tr>\n",
       "    <tr>\n",
       "      <th>2020-04-05</th>\n",
       "      <td>2.771642</td>\n",
       "      <td>0.273704</td>\n",
       "      <td>0.928934</td>\n",
       "      <td>0.388425</td>\n",
       "    </tr>\n",
       "    <tr>\n",
       "      <th>2020-04-07</th>\n",
       "      <td>2.030242</td>\n",
       "      <td>1.396902</td>\n",
       "      <td>-1.286271</td>\n",
       "      <td>0.548502</td>\n",
       "    </tr>\n",
       "    <tr>\n",
       "      <th>2020-04-15</th>\n",
       "      <td>1.609070</td>\n",
       "      <td>1.269079</td>\n",
       "      <td>-0.015960</td>\n",
       "      <td>0.681568</td>\n",
       "    </tr>\n",
       "  </tbody>\n",
       "</table>\n",
       "</div>"
      ],
      "text/plain": [
       "                   A         B         C         D\n",
       "2020-04-03  1.518487  1.718101  0.566045 -0.031820\n",
       "2020-04-05  2.771642  0.273704  0.928934  0.388425\n",
       "2020-04-07  2.030242  1.396902 -1.286271  0.548502\n",
       "2020-04-15  1.609070  1.269079 -0.015960  0.681568"
      ]
     },
     "execution_count": 26,
     "metadata": {},
     "output_type": "execute_result"
    }
   ],
   "source": [
    "#printt the rows which have column A > 0 ,replace 0 with other numbers to see the result\n",
    "df[df['A'] > 1]"
   ]
  },
  {
   "cell_type": "code",
   "execution_count": 27,
   "metadata": {},
   "outputs": [],
   "source": [
    "#Handling the missing data\n",
    "'''\n",
    "How to handle the missing data?\n",
    "missing data or null values in a data can create a lot of ruckus in other stages of data science life cycle,\n",
    "it is very important to deal with the missing data in an effective manner. \n",
    "\n",
    "Reindexing needs to be done: It allows change, edit, delete on a specified axis, it will also return a copy of the same.\n",
    "after reindexing add another column'''\n",
    "\n",
    "df2=df.reindex(index=d[0:4], columns=list(df.columns) + ['E'])\n"
   ]
  },
  {
   "cell_type": "code",
   "execution_count": 28,
   "metadata": {},
   "outputs": [
    {
     "data": {
      "text/html": [
       "<div>\n",
       "<style scoped>\n",
       "    .dataframe tbody tr th:only-of-type {\n",
       "        vertical-align: middle;\n",
       "    }\n",
       "\n",
       "    .dataframe tbody tr th {\n",
       "        vertical-align: top;\n",
       "    }\n",
       "\n",
       "    .dataframe thead th {\n",
       "        text-align: right;\n",
       "    }\n",
       "</style>\n",
       "<table border=\"1\" class=\"dataframe\">\n",
       "  <thead>\n",
       "    <tr style=\"text-align: right;\">\n",
       "      <th></th>\n",
       "      <th>A</th>\n",
       "      <th>B</th>\n",
       "      <th>C</th>\n",
       "      <th>D</th>\n",
       "      <th>E</th>\n",
       "    </tr>\n",
       "  </thead>\n",
       "  <tbody>\n",
       "    <tr>\n",
       "      <th>2020-04-01</th>\n",
       "      <td>0.020830</td>\n",
       "      <td>1.488325</td>\n",
       "      <td>-0.526966</td>\n",
       "      <td>0.507678</td>\n",
       "      <td>1.0</td>\n",
       "    </tr>\n",
       "    <tr>\n",
       "      <th>2020-04-02</th>\n",
       "      <td>0.184991</td>\n",
       "      <td>-0.052052</td>\n",
       "      <td>0.090732</td>\n",
       "      <td>0.628219</td>\n",
       "      <td>1.0</td>\n",
       "    </tr>\n",
       "    <tr>\n",
       "      <th>2020-04-03</th>\n",
       "      <td>1.518487</td>\n",
       "      <td>1.718101</td>\n",
       "      <td>0.566045</td>\n",
       "      <td>-0.031820</td>\n",
       "      <td>NaN</td>\n",
       "    </tr>\n",
       "    <tr>\n",
       "      <th>2020-04-04</th>\n",
       "      <td>-0.923725</td>\n",
       "      <td>0.869330</td>\n",
       "      <td>0.478577</td>\n",
       "      <td>-0.458648</td>\n",
       "      <td>NaN</td>\n",
       "    </tr>\n",
       "  </tbody>\n",
       "</table>\n",
       "</div>"
      ],
      "text/plain": [
       "                   A         B         C         D    E\n",
       "2020-04-01  0.020830  1.488325 -0.526966  0.507678  1.0\n",
       "2020-04-02  0.184991 -0.052052  0.090732  0.628219  1.0\n",
       "2020-04-03  1.518487  1.718101  0.566045 -0.031820  NaN\n",
       "2020-04-04 -0.923725  0.869330  0.478577 -0.458648  NaN"
      ]
     },
     "execution_count": 28,
     "metadata": {},
     "output_type": "execute_result"
    }
   ],
   "source": [
    "#in the output 2 values are assigned 1, while other values of E column are NaN, How to go for missing values\n",
    "df2.loc[d[0]:d[1],'E']=1\n",
    "df2"
   ]
  },
  {
   "cell_type": "code",
   "execution_count": 29,
   "metadata": {},
   "outputs": [
    {
     "data": {
      "text/html": [
       "<div>\n",
       "<style scoped>\n",
       "    .dataframe tbody tr th:only-of-type {\n",
       "        vertical-align: middle;\n",
       "    }\n",
       "\n",
       "    .dataframe tbody tr th {\n",
       "        vertical-align: top;\n",
       "    }\n",
       "\n",
       "    .dataframe thead th {\n",
       "        text-align: right;\n",
       "    }\n",
       "</style>\n",
       "<table border=\"1\" class=\"dataframe\">\n",
       "  <thead>\n",
       "    <tr style=\"text-align: right;\">\n",
       "      <th></th>\n",
       "      <th>A</th>\n",
       "      <th>B</th>\n",
       "      <th>C</th>\n",
       "      <th>D</th>\n",
       "      <th>E</th>\n",
       "    </tr>\n",
       "  </thead>\n",
       "  <tbody>\n",
       "    <tr>\n",
       "      <th>2020-04-01</th>\n",
       "      <td>False</td>\n",
       "      <td>False</td>\n",
       "      <td>False</td>\n",
       "      <td>False</td>\n",
       "      <td>False</td>\n",
       "    </tr>\n",
       "    <tr>\n",
       "      <th>2020-04-02</th>\n",
       "      <td>False</td>\n",
       "      <td>False</td>\n",
       "      <td>False</td>\n",
       "      <td>False</td>\n",
       "      <td>False</td>\n",
       "    </tr>\n",
       "    <tr>\n",
       "      <th>2020-04-03</th>\n",
       "      <td>False</td>\n",
       "      <td>False</td>\n",
       "      <td>False</td>\n",
       "      <td>False</td>\n",
       "      <td>True</td>\n",
       "    </tr>\n",
       "    <tr>\n",
       "      <th>2020-04-04</th>\n",
       "      <td>False</td>\n",
       "      <td>False</td>\n",
       "      <td>False</td>\n",
       "      <td>False</td>\n",
       "      <td>True</td>\n",
       "    </tr>\n",
       "  </tbody>\n",
       "</table>\n",
       "</div>"
      ],
      "text/plain": [
       "                A      B      C      D      E\n",
       "2020-04-01  False  False  False  False  False\n",
       "2020-04-02  False  False  False  False  False\n",
       "2020-04-03  False  False  False  False   True\n",
       "2020-04-04  False  False  False  False   True"
      ]
     },
     "execution_count": 29,
     "metadata": {},
     "output_type": "execute_result"
    }
   ],
   "source": [
    "# by isnull function we can find null values as true\n",
    "df2.isnull()"
   ]
  },
  {
   "cell_type": "code",
   "execution_count": 30,
   "metadata": {},
   "outputs": [
    {
     "data": {
      "text/html": [
       "<div>\n",
       "<style scoped>\n",
       "    .dataframe tbody tr th:only-of-type {\n",
       "        vertical-align: middle;\n",
       "    }\n",
       "\n",
       "    .dataframe tbody tr th {\n",
       "        vertical-align: top;\n",
       "    }\n",
       "\n",
       "    .dataframe thead th {\n",
       "        text-align: right;\n",
       "    }\n",
       "</style>\n",
       "<table border=\"1\" class=\"dataframe\">\n",
       "  <thead>\n",
       "    <tr style=\"text-align: right;\">\n",
       "      <th></th>\n",
       "      <th>A</th>\n",
       "      <th>B</th>\n",
       "      <th>C</th>\n",
       "      <th>D</th>\n",
       "      <th>E</th>\n",
       "    </tr>\n",
       "  </thead>\n",
       "  <tbody>\n",
       "    <tr>\n",
       "      <th>2020-04-01</th>\n",
       "      <td>0.020830</td>\n",
       "      <td>1.488325</td>\n",
       "      <td>-0.526966</td>\n",
       "      <td>0.507678</td>\n",
       "      <td>1.0</td>\n",
       "    </tr>\n",
       "    <tr>\n",
       "      <th>2020-04-02</th>\n",
       "      <td>0.184991</td>\n",
       "      <td>-0.052052</td>\n",
       "      <td>0.090732</td>\n",
       "      <td>0.628219</td>\n",
       "      <td>1.0</td>\n",
       "    </tr>\n",
       "  </tbody>\n",
       "</table>\n",
       "</div>"
      ],
      "text/plain": [
       "                   A         B         C         D    E\n",
       "2020-04-01  0.020830  1.488325 -0.526966  0.507678  1.0\n",
       "2020-04-02  0.184991 -0.052052  0.090732  0.628219  1.0"
      ]
     },
     "execution_count": 30,
     "metadata": {},
     "output_type": "execute_result"
    }
   ],
   "source": [
    "# how to drop null value data, actually the whole row is dropped.\n",
    "df2.dropna()"
   ]
  },
  {
   "cell_type": "code",
   "execution_count": 31,
   "metadata": {},
   "outputs": [
    {
     "data": {
      "text/html": [
       "<div>\n",
       "<style scoped>\n",
       "    .dataframe tbody tr th:only-of-type {\n",
       "        vertical-align: middle;\n",
       "    }\n",
       "\n",
       "    .dataframe tbody tr th {\n",
       "        vertical-align: top;\n",
       "    }\n",
       "\n",
       "    .dataframe thead th {\n",
       "        text-align: right;\n",
       "    }\n",
       "</style>\n",
       "<table border=\"1\" class=\"dataframe\">\n",
       "  <thead>\n",
       "    <tr style=\"text-align: right;\">\n",
       "      <th></th>\n",
       "      <th>A</th>\n",
       "      <th>B</th>\n",
       "      <th>C</th>\n",
       "      <th>D</th>\n",
       "      <th>E</th>\n",
       "    </tr>\n",
       "  </thead>\n",
       "  <tbody>\n",
       "    <tr>\n",
       "      <th>2020-04-01</th>\n",
       "      <td>0.020830</td>\n",
       "      <td>1.488325</td>\n",
       "      <td>-0.526966</td>\n",
       "      <td>0.507678</td>\n",
       "      <td>1.0</td>\n",
       "    </tr>\n",
       "    <tr>\n",
       "      <th>2020-04-02</th>\n",
       "      <td>0.184991</td>\n",
       "      <td>-0.052052</td>\n",
       "      <td>0.090732</td>\n",
       "      <td>0.628219</td>\n",
       "      <td>1.0</td>\n",
       "    </tr>\n",
       "    <tr>\n",
       "      <th>2020-04-03</th>\n",
       "      <td>1.518487</td>\n",
       "      <td>1.718101</td>\n",
       "      <td>0.566045</td>\n",
       "      <td>-0.031820</td>\n",
       "      <td>2.0</td>\n",
       "    </tr>\n",
       "    <tr>\n",
       "      <th>2020-04-04</th>\n",
       "      <td>-0.923725</td>\n",
       "      <td>0.869330</td>\n",
       "      <td>0.478577</td>\n",
       "      <td>-0.458648</td>\n",
       "      <td>2.0</td>\n",
       "    </tr>\n",
       "  </tbody>\n",
       "</table>\n",
       "</div>"
      ],
      "text/plain": [
       "                   A         B         C         D    E\n",
       "2020-04-01  0.020830  1.488325 -0.526966  0.507678  1.0\n",
       "2020-04-02  0.184991 -0.052052  0.090732  0.628219  1.0\n",
       "2020-04-03  1.518487  1.718101  0.566045 -0.031820  2.0\n",
       "2020-04-04 -0.923725  0.869330  0.478577 -0.458648  2.0"
      ]
     },
     "execution_count": 31,
     "metadata": {},
     "output_type": "execute_result"
    }
   ],
   "source": [
    "# how to fill the null values\n",
    "df2.fillna(value=2)"
   ]
  },
  {
   "cell_type": "code",
   "execution_count": 32,
   "metadata": {},
   "outputs": [
    {
     "data": {
      "text/html": [
       "<div>\n",
       "<style scoped>\n",
       "    .dataframe tbody tr th:only-of-type {\n",
       "        vertical-align: middle;\n",
       "    }\n",
       "\n",
       "    .dataframe tbody tr th {\n",
       "        vertical-align: top;\n",
       "    }\n",
       "\n",
       "    .dataframe thead th {\n",
       "        text-align: right;\n",
       "    }\n",
       "</style>\n",
       "<table border=\"1\" class=\"dataframe\">\n",
       "  <thead>\n",
       "    <tr style=\"text-align: right;\">\n",
       "      <th></th>\n",
       "      <th>A</th>\n",
       "      <th>B</th>\n",
       "      <th>C</th>\n",
       "      <th>D</th>\n",
       "      <th>E</th>\n",
       "    </tr>\n",
       "  </thead>\n",
       "  <tbody>\n",
       "    <tr>\n",
       "      <th>2020-04-01</th>\n",
       "      <td>False</td>\n",
       "      <td>False</td>\n",
       "      <td>False</td>\n",
       "      <td>False</td>\n",
       "      <td>False</td>\n",
       "    </tr>\n",
       "    <tr>\n",
       "      <th>2020-04-02</th>\n",
       "      <td>False</td>\n",
       "      <td>False</td>\n",
       "      <td>False</td>\n",
       "      <td>False</td>\n",
       "      <td>False</td>\n",
       "    </tr>\n",
       "    <tr>\n",
       "      <th>2020-04-03</th>\n",
       "      <td>False</td>\n",
       "      <td>False</td>\n",
       "      <td>False</td>\n",
       "      <td>False</td>\n",
       "      <td>True</td>\n",
       "    </tr>\n",
       "    <tr>\n",
       "      <th>2020-04-04</th>\n",
       "      <td>False</td>\n",
       "      <td>False</td>\n",
       "      <td>False</td>\n",
       "      <td>False</td>\n",
       "      <td>True</td>\n",
       "    </tr>\n",
       "  </tbody>\n",
       "</table>\n",
       "</div>"
      ],
      "text/plain": [
       "                A      B      C      D      E\n",
       "2020-04-01  False  False  False  False  False\n",
       "2020-04-02  False  False  False  False  False\n",
       "2020-04-03  False  False  False  False   True\n",
       "2020-04-04  False  False  False  False   True"
      ]
     },
     "execution_count": 32,
     "metadata": {},
     "output_type": "execute_result"
    }
   ],
   "source": [
    "#you can also find null values from data frame by using pandas\n",
    "pd.isna(df2)"
   ]
  },
  {
   "cell_type": "code",
   "execution_count": 33,
   "metadata": {},
   "outputs": [
    {
     "data": {
      "text/plain": [
       "A    0.226468\n",
       "B    0.557876\n",
       "C    0.126311\n",
       "D    0.310810\n",
       "dtype: float64"
      ]
     },
     "execution_count": 33,
     "metadata": {},
     "output_type": "execute_result"
    }
   ],
   "source": [
    "'''Pandas operation\n",
    "different operation can help to explore the data to reach conclusion\n",
    "1. desciptive statistics operation\n",
    "2. applying function to the data\n",
    "3. string processing operation\n",
    "histogramming'''\n",
    "\n",
    "#to find mean of dataframe\n",
    "df.mean()\n"
   ]
  },
  {
   "cell_type": "code",
   "execution_count": 34,
   "metadata": {},
   "outputs": [
    {
     "data": {
      "text/plain": [
       "2020-04-01    0.372467\n",
       "2020-04-02    0.212972\n",
       "2020-04-03    0.942703\n",
       "2020-04-04   -0.008616\n",
       "2020-04-05    1.090676\n",
       "2020-04-06    0.058724\n",
       "2020-04-07    0.672344\n",
       "2020-04-08    1.102299\n",
       "2020-04-09   -0.799155\n",
       "2020-04-10   -0.002896\n",
       "2020-04-11   -0.330626\n",
       "2020-04-12    0.048607\n",
       "2020-04-13    0.355252\n",
       "2020-04-14   -0.020195\n",
       "2020-04-15    0.885939\n",
       "Freq: D, dtype: float64"
      ]
     },
     "execution_count": 34,
     "metadata": {},
     "output_type": "execute_result"
    }
   ],
   "source": [
    "#to find mean of dataframe on one value\n",
    "df.mean(1)\n"
   ]
  },
  {
   "cell_type": "code",
   "execution_count": 35,
   "metadata": {},
   "outputs": [],
   "source": [
    "# how to change values in a series with index d, a two shift gives NaN values to index 1 and 2.\n",
    "s = pd.Series([1,2,3,4,np.nan,6,7,8,9,10,11,12,12,14,15], index=d).shift(2)"
   ]
  },
  {
   "cell_type": "code",
   "execution_count": 36,
   "metadata": {},
   "outputs": [
    {
     "data": {
      "text/plain": [
       "2020-04-01     NaN\n",
       "2020-04-02     NaN\n",
       "2020-04-03     1.0\n",
       "2020-04-04     2.0\n",
       "2020-04-05     3.0\n",
       "2020-04-06     4.0\n",
       "2020-04-07     NaN\n",
       "2020-04-08     6.0\n",
       "2020-04-09     7.0\n",
       "2020-04-10     8.0\n",
       "2020-04-11     9.0\n",
       "2020-04-12    10.0\n",
       "2020-04-13    11.0\n",
       "2020-04-14    12.0\n",
       "2020-04-15    12.0\n",
       "Freq: D, dtype: float64"
      ]
     },
     "execution_count": 36,
     "metadata": {},
     "output_type": "execute_result"
    }
   ],
   "source": [
    "s"
   ]
  },
  {
   "cell_type": "code",
   "execution_count": 37,
   "metadata": {},
   "outputs": [
    {
     "data": {
      "text/html": [
       "<div>\n",
       "<style scoped>\n",
       "    .dataframe tbody tr th:only-of-type {\n",
       "        vertical-align: middle;\n",
       "    }\n",
       "\n",
       "    .dataframe tbody tr th {\n",
       "        vertical-align: top;\n",
       "    }\n",
       "\n",
       "    .dataframe thead th {\n",
       "        text-align: right;\n",
       "    }\n",
       "</style>\n",
       "<table border=\"1\" class=\"dataframe\">\n",
       "  <thead>\n",
       "    <tr style=\"text-align: right;\">\n",
       "      <th></th>\n",
       "      <th>A</th>\n",
       "      <th>B</th>\n",
       "      <th>C</th>\n",
       "      <th>D</th>\n",
       "    </tr>\n",
       "  </thead>\n",
       "  <tbody>\n",
       "    <tr>\n",
       "      <th>2020-04-01</th>\n",
       "      <td>0.020830</td>\n",
       "      <td>1.488325</td>\n",
       "      <td>-0.526966</td>\n",
       "      <td>0.507678</td>\n",
       "    </tr>\n",
       "    <tr>\n",
       "      <th>2020-04-02</th>\n",
       "      <td>0.184991</td>\n",
       "      <td>-0.052052</td>\n",
       "      <td>0.090732</td>\n",
       "      <td>0.628219</td>\n",
       "    </tr>\n",
       "    <tr>\n",
       "      <th>2020-04-03</th>\n",
       "      <td>1.518487</td>\n",
       "      <td>1.718101</td>\n",
       "      <td>0.566045</td>\n",
       "      <td>-0.031820</td>\n",
       "    </tr>\n",
       "    <tr>\n",
       "      <th>2020-04-04</th>\n",
       "      <td>-0.923725</td>\n",
       "      <td>0.869330</td>\n",
       "      <td>0.478577</td>\n",
       "      <td>-0.458648</td>\n",
       "    </tr>\n",
       "    <tr>\n",
       "      <th>2020-04-05</th>\n",
       "      <td>2.771642</td>\n",
       "      <td>0.273704</td>\n",
       "      <td>0.928934</td>\n",
       "      <td>0.388425</td>\n",
       "    </tr>\n",
       "    <tr>\n",
       "      <th>2020-04-06</th>\n",
       "      <td>-0.959450</td>\n",
       "      <td>0.399248</td>\n",
       "      <td>0.576384</td>\n",
       "      <td>0.218715</td>\n",
       "    </tr>\n",
       "    <tr>\n",
       "      <th>2020-04-07</th>\n",
       "      <td>2.030242</td>\n",
       "      <td>1.396902</td>\n",
       "      <td>-1.286271</td>\n",
       "      <td>0.548502</td>\n",
       "    </tr>\n",
       "    <tr>\n",
       "      <th>2020-04-08</th>\n",
       "      <td>0.580824</td>\n",
       "      <td>2.859259</td>\n",
       "      <td>-0.465913</td>\n",
       "      <td>1.435027</td>\n",
       "    </tr>\n",
       "    <tr>\n",
       "      <th>2020-04-09</th>\n",
       "      <td>-1.391796</td>\n",
       "      <td>-1.676979</td>\n",
       "      <td>0.141662</td>\n",
       "      <td>-0.269506</td>\n",
       "    </tr>\n",
       "    <tr>\n",
       "      <th>2020-04-10</th>\n",
       "      <td>-1.006720</td>\n",
       "      <td>-0.633398</td>\n",
       "      <td>0.103555</td>\n",
       "      <td>1.524978</td>\n",
       "    </tr>\n",
       "    <tr>\n",
       "      <th>2020-04-11</th>\n",
       "      <td>0.166163</td>\n",
       "      <td>-0.881935</td>\n",
       "      <td>0.953748</td>\n",
       "      <td>-1.560479</td>\n",
       "    </tr>\n",
       "    <tr>\n",
       "      <th>2020-04-12</th>\n",
       "      <td>-0.188114</td>\n",
       "      <td>-0.018850</td>\n",
       "      <td>0.346787</td>\n",
       "      <td>0.054604</td>\n",
       "    </tr>\n",
       "    <tr>\n",
       "      <th>2020-04-13</th>\n",
       "      <td>0.144156</td>\n",
       "      <td>0.439615</td>\n",
       "      <td>0.085416</td>\n",
       "      <td>0.751822</td>\n",
       "    </tr>\n",
       "    <tr>\n",
       "      <th>2020-04-14</th>\n",
       "      <td>-1.159586</td>\n",
       "      <td>0.917795</td>\n",
       "      <td>-0.082060</td>\n",
       "      <td>0.243070</td>\n",
       "    </tr>\n",
       "    <tr>\n",
       "      <th>2020-04-15</th>\n",
       "      <td>1.609070</td>\n",
       "      <td>1.269079</td>\n",
       "      <td>-0.015960</td>\n",
       "      <td>0.681568</td>\n",
       "    </tr>\n",
       "  </tbody>\n",
       "</table>\n",
       "</div>"
      ],
      "text/plain": [
       "                   A         B         C         D\n",
       "2020-04-01  0.020830  1.488325 -0.526966  0.507678\n",
       "2020-04-02  0.184991 -0.052052  0.090732  0.628219\n",
       "2020-04-03  1.518487  1.718101  0.566045 -0.031820\n",
       "2020-04-04 -0.923725  0.869330  0.478577 -0.458648\n",
       "2020-04-05  2.771642  0.273704  0.928934  0.388425\n",
       "2020-04-06 -0.959450  0.399248  0.576384  0.218715\n",
       "2020-04-07  2.030242  1.396902 -1.286271  0.548502\n",
       "2020-04-08  0.580824  2.859259 -0.465913  1.435027\n",
       "2020-04-09 -1.391796 -1.676979  0.141662 -0.269506\n",
       "2020-04-10 -1.006720 -0.633398  0.103555  1.524978\n",
       "2020-04-11  0.166163 -0.881935  0.953748 -1.560479\n",
       "2020-04-12 -0.188114 -0.018850  0.346787  0.054604\n",
       "2020-04-13  0.144156  0.439615  0.085416  0.751822\n",
       "2020-04-14 -1.159586  0.917795 -0.082060  0.243070\n",
       "2020-04-15  1.609070  1.269079 -0.015960  0.681568"
      ]
     },
     "execution_count": 37,
     "metadata": {},
     "output_type": "execute_result"
    }
   ],
   "source": [
    "df"
   ]
  },
  {
   "cell_type": "code",
   "execution_count": 38,
   "metadata": {},
   "outputs": [
    {
     "data": {
      "text/html": [
       "<div>\n",
       "<style scoped>\n",
       "    .dataframe tbody tr th:only-of-type {\n",
       "        vertical-align: middle;\n",
       "    }\n",
       "\n",
       "    .dataframe tbody tr th {\n",
       "        vertical-align: top;\n",
       "    }\n",
       "\n",
       "    .dataframe thead th {\n",
       "        text-align: right;\n",
       "    }\n",
       "</style>\n",
       "<table border=\"1\" class=\"dataframe\">\n",
       "  <thead>\n",
       "    <tr style=\"text-align: right;\">\n",
       "      <th></th>\n",
       "      <th>A</th>\n",
       "      <th>B</th>\n",
       "      <th>C</th>\n",
       "      <th>D</th>\n",
       "    </tr>\n",
       "  </thead>\n",
       "  <tbody>\n",
       "    <tr>\n",
       "      <th>2020-04-01</th>\n",
       "      <td>0.020830</td>\n",
       "      <td>1.488325</td>\n",
       "      <td>-0.526966</td>\n",
       "      <td>0.507678</td>\n",
       "    </tr>\n",
       "    <tr>\n",
       "      <th>2020-04-02</th>\n",
       "      <td>0.205822</td>\n",
       "      <td>1.436272</td>\n",
       "      <td>-0.436234</td>\n",
       "      <td>1.135897</td>\n",
       "    </tr>\n",
       "    <tr>\n",
       "      <th>2020-04-03</th>\n",
       "      <td>1.724308</td>\n",
       "      <td>3.154374</td>\n",
       "      <td>0.129811</td>\n",
       "      <td>1.104076</td>\n",
       "    </tr>\n",
       "    <tr>\n",
       "      <th>2020-04-04</th>\n",
       "      <td>0.800583</td>\n",
       "      <td>4.023703</td>\n",
       "      <td>0.608388</td>\n",
       "      <td>0.645429</td>\n",
       "    </tr>\n",
       "    <tr>\n",
       "      <th>2020-04-05</th>\n",
       "      <td>3.572225</td>\n",
       "      <td>4.297407</td>\n",
       "      <td>1.537322</td>\n",
       "      <td>1.033854</td>\n",
       "    </tr>\n",
       "    <tr>\n",
       "      <th>2020-04-06</th>\n",
       "      <td>2.612775</td>\n",
       "      <td>4.696654</td>\n",
       "      <td>2.113706</td>\n",
       "      <td>1.252569</td>\n",
       "    </tr>\n",
       "    <tr>\n",
       "      <th>2020-04-07</th>\n",
       "      <td>4.643017</td>\n",
       "      <td>6.093556</td>\n",
       "      <td>0.827435</td>\n",
       "      <td>1.801071</td>\n",
       "    </tr>\n",
       "    <tr>\n",
       "      <th>2020-04-08</th>\n",
       "      <td>5.223841</td>\n",
       "      <td>8.952815</td>\n",
       "      <td>0.361522</td>\n",
       "      <td>3.236098</td>\n",
       "    </tr>\n",
       "    <tr>\n",
       "      <th>2020-04-09</th>\n",
       "      <td>3.832046</td>\n",
       "      <td>7.275836</td>\n",
       "      <td>0.503184</td>\n",
       "      <td>2.966592</td>\n",
       "    </tr>\n",
       "    <tr>\n",
       "      <th>2020-04-10</th>\n",
       "      <td>2.825325</td>\n",
       "      <td>6.642438</td>\n",
       "      <td>0.606739</td>\n",
       "      <td>4.491570</td>\n",
       "    </tr>\n",
       "    <tr>\n",
       "      <th>2020-04-11</th>\n",
       "      <td>2.991488</td>\n",
       "      <td>5.760503</td>\n",
       "      <td>1.560487</td>\n",
       "      <td>2.931090</td>\n",
       "    </tr>\n",
       "    <tr>\n",
       "      <th>2020-04-12</th>\n",
       "      <td>2.803374</td>\n",
       "      <td>5.741653</td>\n",
       "      <td>1.907274</td>\n",
       "      <td>2.985694</td>\n",
       "    </tr>\n",
       "    <tr>\n",
       "      <th>2020-04-13</th>\n",
       "      <td>2.947531</td>\n",
       "      <td>6.181269</td>\n",
       "      <td>1.992690</td>\n",
       "      <td>3.737516</td>\n",
       "    </tr>\n",
       "    <tr>\n",
       "      <th>2020-04-14</th>\n",
       "      <td>1.787945</td>\n",
       "      <td>7.099064</td>\n",
       "      <td>1.910630</td>\n",
       "      <td>3.980586</td>\n",
       "    </tr>\n",
       "    <tr>\n",
       "      <th>2020-04-15</th>\n",
       "      <td>3.397015</td>\n",
       "      <td>8.368142</td>\n",
       "      <td>1.894670</td>\n",
       "      <td>4.662155</td>\n",
       "    </tr>\n",
       "  </tbody>\n",
       "</table>\n",
       "</div>"
      ],
      "text/plain": [
       "                   A         B         C         D\n",
       "2020-04-01  0.020830  1.488325 -0.526966  0.507678\n",
       "2020-04-02  0.205822  1.436272 -0.436234  1.135897\n",
       "2020-04-03  1.724308  3.154374  0.129811  1.104076\n",
       "2020-04-04  0.800583  4.023703  0.608388  0.645429\n",
       "2020-04-05  3.572225  4.297407  1.537322  1.033854\n",
       "2020-04-06  2.612775  4.696654  2.113706  1.252569\n",
       "2020-04-07  4.643017  6.093556  0.827435  1.801071\n",
       "2020-04-08  5.223841  8.952815  0.361522  3.236098\n",
       "2020-04-09  3.832046  7.275836  0.503184  2.966592\n",
       "2020-04-10  2.825325  6.642438  0.606739  4.491570\n",
       "2020-04-11  2.991488  5.760503  1.560487  2.931090\n",
       "2020-04-12  2.803374  5.741653  1.907274  2.985694\n",
       "2020-04-13  2.947531  6.181269  1.992690  3.737516\n",
       "2020-04-14  1.787945  7.099064  1.910630  3.980586\n",
       "2020-04-15  3.397015  8.368142  1.894670  4.662155"
      ]
     },
     "execution_count": 38,
     "metadata": {},
     "output_type": "execute_result"
    }
   ],
   "source": [
    "#apply function on dataframe\n",
    "#cumsum() function is used when we want to compute the cumulative sum of array elements over a given axis.\n",
    "df.apply(np.cumsum)"
   ]
  },
  {
   "cell_type": "code",
   "execution_count": 39,
   "metadata": {},
   "outputs": [],
   "source": [
    "#Lambda functions are called anonymous function beacuse they dont look like normal function.\n",
    "''' \n",
    "Syntax normal function\n",
    "\n",
    "def function_name(parameter):\n",
    "    and then expression\n",
    "\n",
    "syntax lambda\n",
    "    lambda parameter : expression\n",
    "\n",
    "sum of two numbers using lambda function\n",
    "lambdaSum = lambda a,b : a+b\n",
    "    '''\n",
    "lambdaSum = lambda a,b : a+b\n"
   ]
  },
  {
   "cell_type": "code",
   "execution_count": 40,
   "metadata": {},
   "outputs": [
    {
     "data": {
      "text/plain": [
       "13"
      ]
     },
     "execution_count": 40,
     "metadata": {},
     "output_type": "execute_result"
    }
   ],
   "source": [
    "'''The reason for using lambda function is, its handyand whenever we quicly try to write an inline function.\n",
    "They look very simple and does not need too much of coding unlike normal functions'''\n",
    "lambdaSum(5,8)"
   ]
  },
  {
   "cell_type": "code",
   "execution_count": 41,
   "metadata": {},
   "outputs": [],
   "source": [
    "#find largest numbers from 2 given numbers\n",
    "largest = lambda a,b : a if a>b else b"
   ]
  },
  {
   "cell_type": "code",
   "execution_count": 42,
   "metadata": {},
   "outputs": [
    {
     "data": {
      "text/plain": [
       "9"
      ]
     },
     "execution_count": 42,
     "metadata": {},
     "output_type": "execute_result"
    }
   ],
   "source": [
    "largest(5,9)"
   ]
  },
  {
   "cell_type": "code",
   "execution_count": 43,
   "metadata": {},
   "outputs": [],
   "source": [
    "'''#lambda function can be used inside a filter function\n",
    "filter even number from a list using lambda and filter function'''\n",
    "list1=[1,2,3,4,5,6,7,8,9,10]"
   ]
  },
  {
   "cell_type": "code",
   "execution_count": 44,
   "metadata": {},
   "outputs": [
    {
     "data": {
      "text/plain": [
       "[2, 4, 6, 8, 10]"
      ]
     },
     "execution_count": 44,
     "metadata": {},
     "output_type": "execute_result"
    }
   ],
   "source": [
    "list(filter(lambda x:x%2==0, list1))"
   ]
  },
  {
   "cell_type": "code",
   "execution_count": 45,
   "metadata": {},
   "outputs": [
    {
     "data": {
      "text/plain": [
       "A    4.163437\n",
       "B    4.536238\n",
       "C    2.240019\n",
       "D    3.085457\n",
       "dtype: float64"
      ]
     },
     "execution_count": 45,
     "metadata": {},
     "output_type": "execute_result"
    }
   ],
   "source": [
    "''' Similarly lambda function can be applied here as\n",
    "\n",
    "'''\n",
    "df.apply(lambda x: x.max() - x.min())"
   ]
  },
  {
   "cell_type": "code",
   "execution_count": 46,
   "metadata": {},
   "outputs": [
    {
     "data": {
      "text/plain": [
       "12.0    2\n",
       "11.0    1\n",
       "10.0    1\n",
       "9.0     1\n",
       "8.0     1\n",
       "7.0     1\n",
       "6.0     1\n",
       "4.0     1\n",
       "3.0     1\n",
       "2.0     1\n",
       "1.0     1\n",
       "dtype: int64"
      ]
     },
     "execution_count": 46,
     "metadata": {},
     "output_type": "execute_result"
    }
   ],
   "source": [
    "'''Histogramming : A representation of distribution of data\n",
    "One histogram per column'''\n",
    "\n",
    "s.value_counts()"
   ]
  },
  {
   "cell_type": "code",
   "execution_count": 47,
   "metadata": {},
   "outputs": [],
   "source": [
    "#string operation: \n",
    "#change upper to lower case and vice versa\n",
    "s=pd.Series(['FifthSemester','Python','Pandemic',np.nan,'Online','Lectures','StudentsConcentration','High','LoveSubject'])\n"
   ]
  },
  {
   "cell_type": "code",
   "execution_count": 48,
   "metadata": {},
   "outputs": [
    {
     "data": {
      "text/plain": [
       "0            FIFTHSEMESTER\n",
       "1                   PYTHON\n",
       "2                 PANDEMIC\n",
       "3                      NaN\n",
       "4                   ONLINE\n",
       "5                 LECTURES\n",
       "6    STUDENTSCONCENTRATION\n",
       "7                     HIGH\n",
       "8              LOVESUBJECT\n",
       "dtype: object"
      ]
     },
     "execution_count": 48,
     "metadata": {},
     "output_type": "execute_result"
    }
   ],
   "source": [
    "s.str.upper()"
   ]
  },
  {
   "cell_type": "code",
   "execution_count": 49,
   "metadata": {},
   "outputs": [],
   "source": [
    "#Merge and Join the data\n",
    "df = pd.DataFrame(np.random.randn(10,4))"
   ]
  },
  {
   "cell_type": "code",
   "execution_count": 50,
   "metadata": {},
   "outputs": [
    {
     "data": {
      "text/html": [
       "<div>\n",
       "<style scoped>\n",
       "    .dataframe tbody tr th:only-of-type {\n",
       "        vertical-align: middle;\n",
       "    }\n",
       "\n",
       "    .dataframe tbody tr th {\n",
       "        vertical-align: top;\n",
       "    }\n",
       "\n",
       "    .dataframe thead th {\n",
       "        text-align: right;\n",
       "    }\n",
       "</style>\n",
       "<table border=\"1\" class=\"dataframe\">\n",
       "  <thead>\n",
       "    <tr style=\"text-align: right;\">\n",
       "      <th></th>\n",
       "      <th>0</th>\n",
       "      <th>1</th>\n",
       "      <th>2</th>\n",
       "      <th>3</th>\n",
       "    </tr>\n",
       "  </thead>\n",
       "  <tbody>\n",
       "    <tr>\n",
       "      <th>0</th>\n",
       "      <td>-1.053988</td>\n",
       "      <td>-0.762179</td>\n",
       "      <td>-0.146016</td>\n",
       "      <td>-1.610449</td>\n",
       "    </tr>\n",
       "    <tr>\n",
       "      <th>1</th>\n",
       "      <td>1.212642</td>\n",
       "      <td>-2.725204</td>\n",
       "      <td>-0.684177</td>\n",
       "      <td>0.463589</td>\n",
       "    </tr>\n",
       "    <tr>\n",
       "      <th>2</th>\n",
       "      <td>0.568690</td>\n",
       "      <td>2.125194</td>\n",
       "      <td>1.297037</td>\n",
       "      <td>0.475499</td>\n",
       "    </tr>\n",
       "    <tr>\n",
       "      <th>3</th>\n",
       "      <td>0.815005</td>\n",
       "      <td>-1.927092</td>\n",
       "      <td>-0.816118</td>\n",
       "      <td>-1.238485</td>\n",
       "    </tr>\n",
       "    <tr>\n",
       "      <th>4</th>\n",
       "      <td>-0.313734</td>\n",
       "      <td>-1.143561</td>\n",
       "      <td>0.040690</td>\n",
       "      <td>-1.377622</td>\n",
       "    </tr>\n",
       "    <tr>\n",
       "      <th>5</th>\n",
       "      <td>3.118337</td>\n",
       "      <td>1.580085</td>\n",
       "      <td>-1.618761</td>\n",
       "      <td>-0.236537</td>\n",
       "    </tr>\n",
       "    <tr>\n",
       "      <th>6</th>\n",
       "      <td>1.252072</td>\n",
       "      <td>0.606404</td>\n",
       "      <td>-2.303596</td>\n",
       "      <td>0.574208</td>\n",
       "    </tr>\n",
       "    <tr>\n",
       "      <th>7</th>\n",
       "      <td>-1.353669</td>\n",
       "      <td>-0.021252</td>\n",
       "      <td>0.702996</td>\n",
       "      <td>-0.209709</td>\n",
       "    </tr>\n",
       "    <tr>\n",
       "      <th>8</th>\n",
       "      <td>-1.824019</td>\n",
       "      <td>0.212252</td>\n",
       "      <td>0.907313</td>\n",
       "      <td>0.378831</td>\n",
       "    </tr>\n",
       "    <tr>\n",
       "      <th>9</th>\n",
       "      <td>-0.027517</td>\n",
       "      <td>-1.231768</td>\n",
       "      <td>0.445237</td>\n",
       "      <td>-0.423052</td>\n",
       "    </tr>\n",
       "  </tbody>\n",
       "</table>\n",
       "</div>"
      ],
      "text/plain": [
       "          0         1         2         3\n",
       "0 -1.053988 -0.762179 -0.146016 -1.610449\n",
       "1  1.212642 -2.725204 -0.684177  0.463589\n",
       "2  0.568690  2.125194  1.297037  0.475499\n",
       "3  0.815005 -1.927092 -0.816118 -1.238485\n",
       "4 -0.313734 -1.143561  0.040690 -1.377622\n",
       "5  3.118337  1.580085 -1.618761 -0.236537\n",
       "6  1.252072  0.606404 -2.303596  0.574208\n",
       "7 -1.353669 -0.021252  0.702996 -0.209709\n",
       "8 -1.824019  0.212252  0.907313  0.378831\n",
       "9 -0.027517 -1.231768  0.445237 -0.423052"
      ]
     },
     "execution_count": 50,
     "metadata": {},
     "output_type": "execute_result"
    }
   ],
   "source": [
    "df"
   ]
  },
  {
   "cell_type": "code",
   "execution_count": 51,
   "metadata": {},
   "outputs": [],
   "source": [
    "#convert the dataframe in to pieces\n",
    "\n",
    "df2=[df[:5], df[5:7], df[7:]]"
   ]
  },
  {
   "cell_type": "code",
   "execution_count": 52,
   "metadata": {},
   "outputs": [
    {
     "data": {
      "text/plain": [
       "[          0         1         2         3\n",
       " 0 -1.053988 -0.762179 -0.146016 -1.610449\n",
       " 1  1.212642 -2.725204 -0.684177  0.463589\n",
       " 2  0.568690  2.125194  1.297037  0.475499\n",
       " 3  0.815005 -1.927092 -0.816118 -1.238485\n",
       " 4 -0.313734 -1.143561  0.040690 -1.377622,\n",
       "           0         1         2         3\n",
       " 5  3.118337  1.580085 -1.618761 -0.236537\n",
       " 6  1.252072  0.606404 -2.303596  0.574208,\n",
       "           0         1         2         3\n",
       " 7 -1.353669 -0.021252  0.702996 -0.209709\n",
       " 8 -1.824019  0.212252  0.907313  0.378831\n",
       " 9 -0.027517 -1.231768  0.445237 -0.423052]"
      ]
     },
     "execution_count": 52,
     "metadata": {},
     "output_type": "execute_result"
    }
   ],
   "source": [
    "df2"
   ]
  },
  {
   "cell_type": "code",
   "execution_count": 53,
   "metadata": {},
   "outputs": [
    {
     "data": {
      "text/html": [
       "<div>\n",
       "<style scoped>\n",
       "    .dataframe tbody tr th:only-of-type {\n",
       "        vertical-align: middle;\n",
       "    }\n",
       "\n",
       "    .dataframe tbody tr th {\n",
       "        vertical-align: top;\n",
       "    }\n",
       "\n",
       "    .dataframe thead th {\n",
       "        text-align: right;\n",
       "    }\n",
       "</style>\n",
       "<table border=\"1\" class=\"dataframe\">\n",
       "  <thead>\n",
       "    <tr style=\"text-align: right;\">\n",
       "      <th></th>\n",
       "      <th>0</th>\n",
       "      <th>1</th>\n",
       "      <th>2</th>\n",
       "      <th>3</th>\n",
       "    </tr>\n",
       "  </thead>\n",
       "  <tbody>\n",
       "    <tr>\n",
       "      <th>0</th>\n",
       "      <td>-1.053988</td>\n",
       "      <td>-0.762179</td>\n",
       "      <td>-0.146016</td>\n",
       "      <td>-1.610449</td>\n",
       "    </tr>\n",
       "    <tr>\n",
       "      <th>1</th>\n",
       "      <td>1.212642</td>\n",
       "      <td>-2.725204</td>\n",
       "      <td>-0.684177</td>\n",
       "      <td>0.463589</td>\n",
       "    </tr>\n",
       "    <tr>\n",
       "      <th>2</th>\n",
       "      <td>0.568690</td>\n",
       "      <td>2.125194</td>\n",
       "      <td>1.297037</td>\n",
       "      <td>0.475499</td>\n",
       "    </tr>\n",
       "    <tr>\n",
       "      <th>3</th>\n",
       "      <td>0.815005</td>\n",
       "      <td>-1.927092</td>\n",
       "      <td>-0.816118</td>\n",
       "      <td>-1.238485</td>\n",
       "    </tr>\n",
       "    <tr>\n",
       "      <th>4</th>\n",
       "      <td>-0.313734</td>\n",
       "      <td>-1.143561</td>\n",
       "      <td>0.040690</td>\n",
       "      <td>-1.377622</td>\n",
       "    </tr>\n",
       "    <tr>\n",
       "      <th>5</th>\n",
       "      <td>3.118337</td>\n",
       "      <td>1.580085</td>\n",
       "      <td>-1.618761</td>\n",
       "      <td>-0.236537</td>\n",
       "    </tr>\n",
       "    <tr>\n",
       "      <th>6</th>\n",
       "      <td>1.252072</td>\n",
       "      <td>0.606404</td>\n",
       "      <td>-2.303596</td>\n",
       "      <td>0.574208</td>\n",
       "    </tr>\n",
       "    <tr>\n",
       "      <th>7</th>\n",
       "      <td>-1.353669</td>\n",
       "      <td>-0.021252</td>\n",
       "      <td>0.702996</td>\n",
       "      <td>-0.209709</td>\n",
       "    </tr>\n",
       "    <tr>\n",
       "      <th>8</th>\n",
       "      <td>-1.824019</td>\n",
       "      <td>0.212252</td>\n",
       "      <td>0.907313</td>\n",
       "      <td>0.378831</td>\n",
       "    </tr>\n",
       "    <tr>\n",
       "      <th>9</th>\n",
       "      <td>-0.027517</td>\n",
       "      <td>-1.231768</td>\n",
       "      <td>0.445237</td>\n",
       "      <td>-0.423052</td>\n",
       "    </tr>\n",
       "  </tbody>\n",
       "</table>\n",
       "</div>"
      ],
      "text/plain": [
       "          0         1         2         3\n",
       "0 -1.053988 -0.762179 -0.146016 -1.610449\n",
       "1  1.212642 -2.725204 -0.684177  0.463589\n",
       "2  0.568690  2.125194  1.297037  0.475499\n",
       "3  0.815005 -1.927092 -0.816118 -1.238485\n",
       "4 -0.313734 -1.143561  0.040690 -1.377622\n",
       "5  3.118337  1.580085 -1.618761 -0.236537\n",
       "6  1.252072  0.606404 -2.303596  0.574208\n",
       "7 -1.353669 -0.021252  0.702996 -0.209709\n",
       "8 -1.824019  0.212252  0.907313  0.378831\n",
       "9 -0.027517 -1.231768  0.445237 -0.423052"
      ]
     },
     "execution_count": 53,
     "metadata": {},
     "output_type": "execute_result"
    }
   ],
   "source": [
    "#Concat the DataFrame by using pandas concat function\n",
    "pd.concat(df2)"
   ]
  },
  {
   "cell_type": "code",
   "execution_count": 54,
   "metadata": {},
   "outputs": [
    {
     "data": {
      "text/html": [
       "<div>\n",
       "<style scoped>\n",
       "    .dataframe tbody tr th:only-of-type {\n",
       "        vertical-align: middle;\n",
       "    }\n",
       "\n",
       "    .dataframe tbody tr th {\n",
       "        vertical-align: top;\n",
       "    }\n",
       "\n",
       "    .dataframe thead th {\n",
       "        text-align: right;\n",
       "    }\n",
       "</style>\n",
       "<table border=\"1\" class=\"dataframe\">\n",
       "  <thead>\n",
       "    <tr style=\"text-align: right;\">\n",
       "      <th></th>\n",
       "      <th>A</th>\n",
       "      <th>C</th>\n",
       "    </tr>\n",
       "  </thead>\n",
       "  <tbody>\n",
       "    <tr>\n",
       "      <th>0</th>\n",
       "      <td>1</td>\n",
       "      <td>5</td>\n",
       "    </tr>\n",
       "    <tr>\n",
       "      <th>1</th>\n",
       "      <td>2</td>\n",
       "      <td>4</td>\n",
       "    </tr>\n",
       "  </tbody>\n",
       "</table>\n",
       "</div>"
      ],
      "text/plain": [
       "   A  C\n",
       "0  1  5\n",
       "1  2  4"
      ]
     },
     "execution_count": 54,
     "metadata": {},
     "output_type": "execute_result"
    }
   ],
   "source": [
    "#join function left and right join\n",
    "\n",
    "left=pd.DataFrame({'A':[1,2], 'C':[5,4]})\n",
    "right=pd.DataFrame({'C':[5,2], 'D':[4,5]})\n",
    "left"
   ]
  },
  {
   "cell_type": "code",
   "execution_count": 55,
   "metadata": {},
   "outputs": [
    {
     "data": {
      "text/html": [
       "<div>\n",
       "<style scoped>\n",
       "    .dataframe tbody tr th:only-of-type {\n",
       "        vertical-align: middle;\n",
       "    }\n",
       "\n",
       "    .dataframe tbody tr th {\n",
       "        vertical-align: top;\n",
       "    }\n",
       "\n",
       "    .dataframe thead th {\n",
       "        text-align: right;\n",
       "    }\n",
       "</style>\n",
       "<table border=\"1\" class=\"dataframe\">\n",
       "  <thead>\n",
       "    <tr style=\"text-align: right;\">\n",
       "      <th></th>\n",
       "      <th>C</th>\n",
       "      <th>D</th>\n",
       "    </tr>\n",
       "  </thead>\n",
       "  <tbody>\n",
       "    <tr>\n",
       "      <th>0</th>\n",
       "      <td>5</td>\n",
       "      <td>4</td>\n",
       "    </tr>\n",
       "    <tr>\n",
       "      <th>1</th>\n",
       "      <td>2</td>\n",
       "      <td>5</td>\n",
       "    </tr>\n",
       "  </tbody>\n",
       "</table>\n",
       "</div>"
      ],
      "text/plain": [
       "   C  D\n",
       "0  5  4\n",
       "1  2  5"
      ]
     },
     "execution_count": 55,
     "metadata": {},
     "output_type": "execute_result"
    }
   ],
   "source": [
    "right"
   ]
  },
  {
   "cell_type": "code",
   "execution_count": 56,
   "metadata": {},
   "outputs": [
    {
     "data": {
      "text/html": [
       "<div>\n",
       "<style scoped>\n",
       "    .dataframe tbody tr th:only-of-type {\n",
       "        vertical-align: middle;\n",
       "    }\n",
       "\n",
       "    .dataframe tbody tr th {\n",
       "        vertical-align: top;\n",
       "    }\n",
       "\n",
       "    .dataframe thead th {\n",
       "        text-align: right;\n",
       "    }\n",
       "</style>\n",
       "<table border=\"1\" class=\"dataframe\">\n",
       "  <thead>\n",
       "    <tr style=\"text-align: right;\">\n",
       "      <th></th>\n",
       "      <th>A</th>\n",
       "      <th>C</th>\n",
       "      <th>D</th>\n",
       "    </tr>\n",
       "  </thead>\n",
       "  <tbody>\n",
       "    <tr>\n",
       "      <th>0</th>\n",
       "      <td>1</td>\n",
       "      <td>5</td>\n",
       "      <td>4</td>\n",
       "    </tr>\n",
       "  </tbody>\n",
       "</table>\n",
       "</div>"
      ],
      "text/plain": [
       "   A  C  D\n",
       "0  1  5  4"
      ]
     },
     "execution_count": 56,
     "metadata": {},
     "output_type": "execute_result"
    }
   ],
   "source": [
    "pd.merge(left, right, on='C')"
   ]
  },
  {
   "cell_type": "code",
   "execution_count": 57,
   "metadata": {},
   "outputs": [
    {
     "name": "stdout",
     "output_type": "stream",
     "text": [
      "[(' Anjali', 'Ce1'), ('Nitya', 'Ce2'), ('Shraddha', 'Ce3')]\n"
     ]
    }
   ],
   "source": [
    "'''Reshape Data \n",
    "Reshaping is munging the data according to our specifications\n",
    "1. Stack:\n",
    "\n",
    "Before that lets learn zip function\n",
    "\n",
    "lets create two tuples\n",
    "\n",
    "'''\n",
    "names = (\" Anjali\", \"Nitya\" , \"Shraddha\")\n",
    "classes = (\"Ce1\", \"Ce2\", \"Ce3\")\n",
    "\n",
    "# zip(names,classes) save it in a separate object\n",
    "\n",
    "#zipped = zip(names,classes)\n",
    "# print(zipped)\n",
    "zipped =  list(zip(names,classes))\n",
    "print(zipped)"
   ]
  },
  {
   "cell_type": "code",
   "execution_count": 58,
   "metadata": {},
   "outputs": [],
   "source": [
    "my_tuple = list(zip(*[[1,2,3,4,5,17,18,19], [11,12,13,6,7,8,9,10]]))"
   ]
  },
  {
   "cell_type": "code",
   "execution_count": 59,
   "metadata": {},
   "outputs": [],
   "source": [
    "# A new index will be created\n",
    "index = pd.MultiIndex.from_tuples(my_tuple, names=['First', 'Second'])"
   ]
  },
  {
   "cell_type": "code",
   "execution_count": 60,
   "metadata": {},
   "outputs": [
    {
     "data": {
      "text/html": [
       "<div>\n",
       "<style scoped>\n",
       "    .dataframe tbody tr th:only-of-type {\n",
       "        vertical-align: middle;\n",
       "    }\n",
       "\n",
       "    .dataframe tbody tr th {\n",
       "        vertical-align: top;\n",
       "    }\n",
       "\n",
       "    .dataframe thead th {\n",
       "        text-align: right;\n",
       "    }\n",
       "</style>\n",
       "<table border=\"1\" class=\"dataframe\">\n",
       "  <thead>\n",
       "    <tr style=\"text-align: right;\">\n",
       "      <th></th>\n",
       "      <th></th>\n",
       "      <th>A</th>\n",
       "      <th>B</th>\n",
       "    </tr>\n",
       "    <tr>\n",
       "      <th>First</th>\n",
       "      <th>Second</th>\n",
       "      <th></th>\n",
       "      <th></th>\n",
       "    </tr>\n",
       "  </thead>\n",
       "  <tbody>\n",
       "    <tr>\n",
       "      <th>1</th>\n",
       "      <th>11</th>\n",
       "      <td>0.786492</td>\n",
       "      <td>-0.364592</td>\n",
       "    </tr>\n",
       "    <tr>\n",
       "      <th>2</th>\n",
       "      <th>12</th>\n",
       "      <td>0.639339</td>\n",
       "      <td>-2.318972</td>\n",
       "    </tr>\n",
       "    <tr>\n",
       "      <th>3</th>\n",
       "      <th>13</th>\n",
       "      <td>0.302656</td>\n",
       "      <td>1.243696</td>\n",
       "    </tr>\n",
       "    <tr>\n",
       "      <th>4</th>\n",
       "      <th>6</th>\n",
       "      <td>0.617645</td>\n",
       "      <td>1.690934</td>\n",
       "    </tr>\n",
       "    <tr>\n",
       "      <th>5</th>\n",
       "      <th>7</th>\n",
       "      <td>-0.840758</td>\n",
       "      <td>-0.097530</td>\n",
       "    </tr>\n",
       "    <tr>\n",
       "      <th>17</th>\n",
       "      <th>8</th>\n",
       "      <td>-0.501838</td>\n",
       "      <td>1.481924</td>\n",
       "    </tr>\n",
       "    <tr>\n",
       "      <th>18</th>\n",
       "      <th>9</th>\n",
       "      <td>-1.344906</td>\n",
       "      <td>0.582626</td>\n",
       "    </tr>\n",
       "    <tr>\n",
       "      <th>19</th>\n",
       "      <th>10</th>\n",
       "      <td>-0.482907</td>\n",
       "      <td>-1.193407</td>\n",
       "    </tr>\n",
       "  </tbody>\n",
       "</table>\n",
       "</div>"
      ],
      "text/plain": [
       "                     A         B\n",
       "First Second                    \n",
       "1     11      0.786492 -0.364592\n",
       "2     12      0.639339 -2.318972\n",
       "3     13      0.302656  1.243696\n",
       "4     6       0.617645  1.690934\n",
       "5     7      -0.840758 -0.097530\n",
       "17    8      -0.501838  1.481924\n",
       "18    9      -1.344906  0.582626\n",
       "19    10     -0.482907 -1.193407"
      ]
     },
     "execution_count": 60,
     "metadata": {},
     "output_type": "execute_result"
    }
   ],
   "source": [
    "df = pd.DataFrame(np.random.randn(8,2), index = index, columns=['A', 'B'])\n",
    "df"
   ]
  },
  {
   "cell_type": "code",
   "execution_count": 61,
   "metadata": {},
   "outputs": [],
   "source": [
    "#Slicing and taking only four rows\n",
    "df2 = df[:4]"
   ]
  },
  {
   "cell_type": "code",
   "execution_count": 62,
   "metadata": {},
   "outputs": [
    {
     "data": {
      "text/html": [
       "<div>\n",
       "<style scoped>\n",
       "    .dataframe tbody tr th:only-of-type {\n",
       "        vertical-align: middle;\n",
       "    }\n",
       "\n",
       "    .dataframe tbody tr th {\n",
       "        vertical-align: top;\n",
       "    }\n",
       "\n",
       "    .dataframe thead th {\n",
       "        text-align: right;\n",
       "    }\n",
       "</style>\n",
       "<table border=\"1\" class=\"dataframe\">\n",
       "  <thead>\n",
       "    <tr style=\"text-align: right;\">\n",
       "      <th></th>\n",
       "      <th></th>\n",
       "      <th>A</th>\n",
       "      <th>B</th>\n",
       "    </tr>\n",
       "    <tr>\n",
       "      <th>First</th>\n",
       "      <th>Second</th>\n",
       "      <th></th>\n",
       "      <th></th>\n",
       "    </tr>\n",
       "  </thead>\n",
       "  <tbody>\n",
       "    <tr>\n",
       "      <th>1</th>\n",
       "      <th>11</th>\n",
       "      <td>0.786492</td>\n",
       "      <td>-0.364592</td>\n",
       "    </tr>\n",
       "    <tr>\n",
       "      <th>2</th>\n",
       "      <th>12</th>\n",
       "      <td>0.639339</td>\n",
       "      <td>-2.318972</td>\n",
       "    </tr>\n",
       "    <tr>\n",
       "      <th>3</th>\n",
       "      <th>13</th>\n",
       "      <td>0.302656</td>\n",
       "      <td>1.243696</td>\n",
       "    </tr>\n",
       "    <tr>\n",
       "      <th>4</th>\n",
       "      <th>6</th>\n",
       "      <td>0.617645</td>\n",
       "      <td>1.690934</td>\n",
       "    </tr>\n",
       "  </tbody>\n",
       "</table>\n",
       "</div>"
      ],
      "text/plain": [
       "                     A         B\n",
       "First Second                    \n",
       "1     11      0.786492 -0.364592\n",
       "2     12      0.639339 -2.318972\n",
       "3     13      0.302656  1.243696\n",
       "4     6       0.617645  1.690934"
      ]
     },
     "execution_count": 62,
     "metadata": {},
     "output_type": "execute_result"
    }
   ],
   "source": [
    "#reshaped dataframe!\n",
    "df2"
   ]
  },
  {
   "cell_type": "code",
   "execution_count": 63,
   "metadata": {},
   "outputs": [
    {
     "data": {
      "text/plain": [
       "First  Second   \n",
       "1      11      A    0.786492\n",
       "               B   -0.364592\n",
       "2      12      A    0.639339\n",
       "               B   -2.318972\n",
       "3      13      A    0.302656\n",
       "               B    1.243696\n",
       "4      6       A    0.617645\n",
       "               B    1.690934\n",
       "dtype: float64"
      ]
     },
     "execution_count": 63,
     "metadata": {},
     "output_type": "execute_result"
    }
   ],
   "source": [
    "#Stack and unstack the dataframe\n",
    "#stack or compress a level \n",
    "df2.stack()"
   ]
  },
  {
   "cell_type": "code",
   "execution_count": 64,
   "metadata": {},
   "outputs": [],
   "source": [
    "a=df2.stack()"
   ]
  },
  {
   "cell_type": "code",
   "execution_count": 65,
   "metadata": {},
   "outputs": [
    {
     "data": {
      "text/html": [
       "<div>\n",
       "<style scoped>\n",
       "    .dataframe tbody tr th:only-of-type {\n",
       "        vertical-align: middle;\n",
       "    }\n",
       "\n",
       "    .dataframe tbody tr th {\n",
       "        vertical-align: top;\n",
       "    }\n",
       "\n",
       "    .dataframe thead th {\n",
       "        text-align: right;\n",
       "    }\n",
       "</style>\n",
       "<table border=\"1\" class=\"dataframe\">\n",
       "  <thead>\n",
       "    <tr style=\"text-align: right;\">\n",
       "      <th></th>\n",
       "      <th></th>\n",
       "      <th>A</th>\n",
       "      <th>B</th>\n",
       "    </tr>\n",
       "    <tr>\n",
       "      <th>First</th>\n",
       "      <th>Second</th>\n",
       "      <th></th>\n",
       "      <th></th>\n",
       "    </tr>\n",
       "  </thead>\n",
       "  <tbody>\n",
       "    <tr>\n",
       "      <th>1</th>\n",
       "      <th>11</th>\n",
       "      <td>0.786492</td>\n",
       "      <td>-0.364592</td>\n",
       "    </tr>\n",
       "    <tr>\n",
       "      <th>2</th>\n",
       "      <th>12</th>\n",
       "      <td>0.639339</td>\n",
       "      <td>-2.318972</td>\n",
       "    </tr>\n",
       "    <tr>\n",
       "      <th>3</th>\n",
       "      <th>13</th>\n",
       "      <td>0.302656</td>\n",
       "      <td>1.243696</td>\n",
       "    </tr>\n",
       "    <tr>\n",
       "      <th>4</th>\n",
       "      <th>6</th>\n",
       "      <td>0.617645</td>\n",
       "      <td>1.690934</td>\n",
       "    </tr>\n",
       "  </tbody>\n",
       "</table>\n",
       "</div>"
      ],
      "text/plain": [
       "                     A         B\n",
       "First Second                    \n",
       "1     11      0.786492 -0.364592\n",
       "2     12      0.639339 -2.318972\n",
       "3     13      0.302656  1.243696\n",
       "4     6       0.617645  1.690934"
      ]
     },
     "execution_count": 65,
     "metadata": {},
     "output_type": "execute_result"
    }
   ],
   "source": [
    "a.unstack()"
   ]
  },
  {
   "cell_type": "code",
   "execution_count": 66,
   "metadata": {},
   "outputs": [],
   "source": [
    "#Time series and categoricals\n",
    "'''Pandas has simple, powerful and effiecient functinality for performing resampling operations during frequency conversion\n",
    "time series: days, months, year\n",
    "categorical data are either yes or no situation, 0 or 1, true or false\n",
    "\n",
    "1st example convert into 5minutely data'''\n",
    "\n",
    "dates = pd.date_range('20200301', periods = 100, freq = 'S' )"
   ]
  },
  {
   "cell_type": "code",
   "execution_count": 67,
   "metadata": {},
   "outputs": [
    {
     "data": {
      "text/plain": [
       "DatetimeIndex(['2020-03-01 00:00:00', '2020-03-01 00:00:01',\n",
       "               '2020-03-01 00:00:02', '2020-03-01 00:00:03',\n",
       "               '2020-03-01 00:00:04', '2020-03-01 00:00:05',\n",
       "               '2020-03-01 00:00:06', '2020-03-01 00:00:07',\n",
       "               '2020-03-01 00:00:08', '2020-03-01 00:00:09',\n",
       "               '2020-03-01 00:00:10', '2020-03-01 00:00:11',\n",
       "               '2020-03-01 00:00:12', '2020-03-01 00:00:13',\n",
       "               '2020-03-01 00:00:14', '2020-03-01 00:00:15',\n",
       "               '2020-03-01 00:00:16', '2020-03-01 00:00:17',\n",
       "               '2020-03-01 00:00:18', '2020-03-01 00:00:19',\n",
       "               '2020-03-01 00:00:20', '2020-03-01 00:00:21',\n",
       "               '2020-03-01 00:00:22', '2020-03-01 00:00:23',\n",
       "               '2020-03-01 00:00:24', '2020-03-01 00:00:25',\n",
       "               '2020-03-01 00:00:26', '2020-03-01 00:00:27',\n",
       "               '2020-03-01 00:00:28', '2020-03-01 00:00:29',\n",
       "               '2020-03-01 00:00:30', '2020-03-01 00:00:31',\n",
       "               '2020-03-01 00:00:32', '2020-03-01 00:00:33',\n",
       "               '2020-03-01 00:00:34', '2020-03-01 00:00:35',\n",
       "               '2020-03-01 00:00:36', '2020-03-01 00:00:37',\n",
       "               '2020-03-01 00:00:38', '2020-03-01 00:00:39',\n",
       "               '2020-03-01 00:00:40', '2020-03-01 00:00:41',\n",
       "               '2020-03-01 00:00:42', '2020-03-01 00:00:43',\n",
       "               '2020-03-01 00:00:44', '2020-03-01 00:00:45',\n",
       "               '2020-03-01 00:00:46', '2020-03-01 00:00:47',\n",
       "               '2020-03-01 00:00:48', '2020-03-01 00:00:49',\n",
       "               '2020-03-01 00:00:50', '2020-03-01 00:00:51',\n",
       "               '2020-03-01 00:00:52', '2020-03-01 00:00:53',\n",
       "               '2020-03-01 00:00:54', '2020-03-01 00:00:55',\n",
       "               '2020-03-01 00:00:56', '2020-03-01 00:00:57',\n",
       "               '2020-03-01 00:00:58', '2020-03-01 00:00:59',\n",
       "               '2020-03-01 00:01:00', '2020-03-01 00:01:01',\n",
       "               '2020-03-01 00:01:02', '2020-03-01 00:01:03',\n",
       "               '2020-03-01 00:01:04', '2020-03-01 00:01:05',\n",
       "               '2020-03-01 00:01:06', '2020-03-01 00:01:07',\n",
       "               '2020-03-01 00:01:08', '2020-03-01 00:01:09',\n",
       "               '2020-03-01 00:01:10', '2020-03-01 00:01:11',\n",
       "               '2020-03-01 00:01:12', '2020-03-01 00:01:13',\n",
       "               '2020-03-01 00:01:14', '2020-03-01 00:01:15',\n",
       "               '2020-03-01 00:01:16', '2020-03-01 00:01:17',\n",
       "               '2020-03-01 00:01:18', '2020-03-01 00:01:19',\n",
       "               '2020-03-01 00:01:20', '2020-03-01 00:01:21',\n",
       "               '2020-03-01 00:01:22', '2020-03-01 00:01:23',\n",
       "               '2020-03-01 00:01:24', '2020-03-01 00:01:25',\n",
       "               '2020-03-01 00:01:26', '2020-03-01 00:01:27',\n",
       "               '2020-03-01 00:01:28', '2020-03-01 00:01:29',\n",
       "               '2020-03-01 00:01:30', '2020-03-01 00:01:31',\n",
       "               '2020-03-01 00:01:32', '2020-03-01 00:01:33',\n",
       "               '2020-03-01 00:01:34', '2020-03-01 00:01:35',\n",
       "               '2020-03-01 00:01:36', '2020-03-01 00:01:37',\n",
       "               '2020-03-01 00:01:38', '2020-03-01 00:01:39'],\n",
       "              dtype='datetime64[ns]', freq='S')"
      ]
     },
     "execution_count": 67,
     "metadata": {},
     "output_type": "execute_result"
    }
   ],
   "source": [
    "dates"
   ]
  },
  {
   "cell_type": "code",
   "execution_count": 68,
   "metadata": {},
   "outputs": [
    {
     "data": {
      "text/plain": [
       "'\\n1. Time Module\\n2. Built in function\\n3. Examples\\n4. The datetime module\\n5. Built-in functions\\n6. Examples\\n'"
      ]
     },
     "execution_count": 68,
     "metadata": {},
     "output_type": "execute_result"
    }
   ],
   "source": [
    "#Date Time Series\n",
    "'''\n",
    "1. Time Module\n",
    "2. Built in function\n",
    "3. Examples\n",
    "4. The datetime module\n",
    "5. Built-in functions\n",
    "6. Examples\n",
    "'''\n"
   ]
  },
  {
   "cell_type": "code",
   "execution_count": 69,
   "metadata": {},
   "outputs": [
    {
     "data": {
      "text/plain": [
       "'The time module and its built in methods\\nepochs mean \"time in history\" and begins in 1st January 1970\\nfunction\\ntime(): No. of seconds passed since the epoch, \\nctime(): return the current date and time, taking elapsed second as its parameter\\nsleep(): stops the execution of a thread for a given period of time,\\nlocaltime():returns the date and time in time.struct_time format in by taking,\\n        the number of seconds passed since the epoch as the parameter,\\ngmtime():returns the current date and time in UTC format(Universal Time Coordinated (UTC)) ,\\nmktime(): it is the inverse of local time,it take a tuple of 9 parameters and returns the seconds passed since the epoch,\\nasctime(): It takes 9 parameters and returns a string representing the same.\\n'"
      ]
     },
     "execution_count": 69,
     "metadata": {},
     "output_type": "execute_result"
    }
   ],
   "source": [
    "'''The time module and its built in methods\n",
    "epochs mean \"time in history\" and begins in 1st January 1970\n",
    "function\n",
    "time(): No. of seconds passed since the epoch, \n",
    "ctime(): return the current date and time, taking elapsed second as its parameter\n",
    "sleep(): stops the execution of a thread for a given period of time,\n",
    "localtime():returns the date and time in time.struct_time format in by taking,\n",
    "        the number of seconds passed since the epoch as the parameter,\n",
    "gmtime():returns the current date and time in UTC format(Universal Time Coordinated (UTC)) ,\n",
    "mktime(): it is the inverse of local time,it take a tuple of 9 parameters and returns the seconds passed since the epoch,\n",
    "asctime(): It takes 9 parameters and returns a string representing the same.\n",
    "'''"
   ]
  },
  {
   "cell_type": "code",
   "execution_count": 90,
   "metadata": {},
   "outputs": [
    {
     "data": {
      "text/plain": [
       "1599723892.115415"
      ]
     },
     "execution_count": 90,
     "metadata": {},
     "output_type": "execute_result"
    }
   ],
   "source": [
    "#number of second elapsed since start of the epoch\n",
    "import time\n",
    "time.time()"
   ]
  },
  {
   "cell_type": "code",
   "execution_count": 92,
   "metadata": {},
   "outputs": [
    {
     "data": {
      "text/plain": [
       "'Thu Sep 10 13:14:52 2020'"
      ]
     },
     "execution_count": 92,
     "metadata": {},
     "output_type": "execute_result"
    }
   ],
   "source": [
    "#if you want to know the current time wrt to epoch\n",
    "time.ctime(1599723892.)"
   ]
  },
  {
   "cell_type": "code",
   "execution_count": 72,
   "metadata": {},
   "outputs": [
    {
     "name": "stdout",
     "output_type": "stream",
     "text": [
      "Help on built-in function time in module time:\n",
      "\n",
      "time(...)\n",
      "    time() -> floating point number\n",
      "    \n",
      "    Return the current time in seconds since the Epoch.\n",
      "    Fractions of a second may be present if the system clock provides them.\n",
      "\n"
     ]
    }
   ],
   "source": [
    "help(time.time)"
   ]
  },
  {
   "cell_type": "code",
   "execution_count": 73,
   "metadata": {},
   "outputs": [
    {
     "name": "stdout",
     "output_type": "stream",
     "text": [
      "Help on built-in function ctime in module time:\n",
      "\n",
      "ctime(...)\n",
      "    ctime(seconds) -> string\n",
      "    \n",
      "    Convert a time in seconds since the Epoch to a string in local time.\n",
      "    This is equivalent to asctime(localtime(seconds)). When the time tuple is\n",
      "    not present, current time as returned by localtime() is used.\n",
      "\n"
     ]
    }
   ],
   "source": [
    "help(time.ctime)"
   ]
  },
  {
   "cell_type": "code",
   "execution_count": 93,
   "metadata": {},
   "outputs": [
    {
     "data": {
      "text/plain": [
       "time.struct_time(tm_year=2020, tm_mon=9, tm_mday=10, tm_hour=13, tm_min=18, tm_sec=47, tm_wday=3, tm_yday=254, tm_isdst=0)"
      ]
     },
     "execution_count": 93,
     "metadata": {},
     "output_type": "execute_result"
    }
   ],
   "source": [
    "#Refer PPT to know the elements\n",
    "time.localtime()"
   ]
  },
  {
   "cell_type": "code",
   "execution_count": 94,
   "metadata": {},
   "outputs": [
    {
     "name": "stdout",
     "output_type": "stream",
     "text": [
      "1599724364.0\n"
     ]
    }
   ],
   "source": [
    "#mktime shows the number of seconds passed till now\n",
    "a=time.localtime()\n",
    "b=time.mktime(a)\n",
    "print(b)"
   ]
  },
  {
   "cell_type": "code",
   "execution_count": 95,
   "metadata": {},
   "outputs": [
    {
     "name": "stdout",
     "output_type": "stream",
     "text": [
      "Thu Sep 10 13:22:44 2020\n"
     ]
    }
   ],
   "source": [
    "#it take the localtime format(struct time format of 9 parameters and result in a readable string)\n",
    "c = time.asctime(a)\n",
    "print(c)"
   ]
  },
  {
   "cell_type": "code",
   "execution_count": 77,
   "metadata": {},
   "outputs": [
    {
     "name": "stdout",
     "output_type": "stream",
     "text": [
      "Help on built-in function strftime in module time:\n",
      "\n",
      "strftime(...)\n",
      "    strftime(format[, tuple]) -> string\n",
      "    \n",
      "    Convert a time tuple to a string according to a format specification.\n",
      "    See the library reference manual for formatting codes. When the time tuple\n",
      "    is not present, current time as returned by localtime() is used.\n",
      "    \n",
      "    Commonly used format codes:\n",
      "    \n",
      "    %Y  Year with century as a decimal number.\n",
      "    %m  Month as a decimal number [01,12].\n",
      "    %d  Day of the month as a decimal number [01,31].\n",
      "    %H  Hour (24-hour clock) as a decimal number [00,23].\n",
      "    %M  Minute as a decimal number [00,59].\n",
      "    %S  Second as a decimal number [00,61].\n",
      "    %z  Time zone offset from UTC.\n",
      "    %a  Locale's abbreviated weekday name.\n",
      "    %A  Locale's full weekday name.\n",
      "    %b  Locale's abbreviated month name.\n",
      "    %B  Locale's full month name.\n",
      "    %c  Locale's appropriate date and time representation.\n",
      "    %I  Hour (12-hour clock) as a decimal number [01,12].\n",
      "    %p  Locale's equivalent of either AM or PM.\n",
      "    \n",
      "    Other codes may be available on your platform.  See documentation for\n",
      "    the C library strftime function.\n",
      "\n"
     ]
    }
   ],
   "source": [
    "#format the time with strf(), and strp() time method\n",
    "'''strf(): it take struct time format and returns string, and \n",
    "    strp() it takes a string and returns a struct time format'''\n",
    "help(time.strftime)"
   ]
  },
  {
   "cell_type": "code",
   "execution_count": 78,
   "metadata": {},
   "outputs": [
    {
     "name": "stdout",
     "output_type": "stream",
     "text": [
      "time.struct_time(tm_year=2020, tm_mon=9, tm_mday=10, tm_hour=12, tm_min=57, tm_sec=33, tm_wday=3, tm_yday=254, tm_isdst=0)\n"
     ]
    }
   ],
   "source": [
    "print(a)"
   ]
  },
  {
   "cell_type": "code",
   "execution_count": 97,
   "metadata": {},
   "outputs": [
    {
     "name": "stdout",
     "output_type": "stream",
     "text": [
      "10/09/2020\n"
     ]
    }
   ],
   "source": [
    "x=time.strftime(\"%d/%m/%Y\")\n",
    "print(x)"
   ]
  },
  {
   "cell_type": "code",
   "execution_count": 98,
   "metadata": {},
   "outputs": [
    {
     "name": "stdout",
     "output_type": "stream",
     "text": [
      "time.struct_time(tm_year=2020, tm_mon=9, tm_mday=9, tm_hour=0, tm_min=0, tm_sec=0, tm_wday=2, tm_yday=253, tm_isdst=-1)\n"
     ]
    }
   ],
   "source": [
    "y = \"09 September 2020\"\n",
    "s=time.strptime(y,\"%d %B %Y\")\n",
    "print(s)"
   ]
  },
  {
   "cell_type": "markdown",
   "metadata": {},
   "source": [
    "# datetime"
   ]
  },
  {
   "cell_type": "code",
   "execution_count": 81,
   "metadata": {},
   "outputs": [],
   "source": [
    "import datetime"
   ]
  },
  {
   "cell_type": "code",
   "execution_count": 82,
   "metadata": {},
   "outputs": [
    {
     "name": "stdout",
     "output_type": "stream",
     "text": [
      "2020-09-10 01:34:55.000543\n"
     ]
    }
   ],
   "source": [
    "print(datetime.datetime(2020,9,10,1,34,55,543))"
   ]
  },
  {
   "cell_type": "code",
   "execution_count": 83,
   "metadata": {},
   "outputs": [
    {
     "data": {
      "text/plain": [
       "datetime.datetime(2020, 9, 10, 12, 57, 34, 254280)"
      ]
     },
     "execution_count": 83,
     "metadata": {},
     "output_type": "execute_result"
    }
   ],
   "source": [
    "#current date time\n",
    "datetime.datetime.today()"
   ]
  },
  {
   "cell_type": "code",
   "execution_count": 84,
   "metadata": {},
   "outputs": [],
   "source": [
    "v=datetime.datetime.now()"
   ]
  },
  {
   "cell_type": "code",
   "execution_count": 85,
   "metadata": {},
   "outputs": [
    {
     "data": {
      "text/plain": [
       "2020"
      ]
     },
     "execution_count": 85,
     "metadata": {},
     "output_type": "execute_result"
    }
   ],
   "source": [
    "v.year"
   ]
  },
  {
   "cell_type": "code",
   "execution_count": 86,
   "metadata": {},
   "outputs": [
    {
     "name": "stdout",
     "output_type": "stream",
     "text": [
      "9\n",
      "12\n"
     ]
    }
   ],
   "source": [
    "print(v.month)\n",
    "print(v.hour)"
   ]
  },
  {
   "cell_type": "code",
   "execution_count": 87,
   "metadata": {},
   "outputs": [
    {
     "data": {
      "text/plain": [
       "datetime.date(2020, 9, 7)"
      ]
     },
     "execution_count": 87,
     "metadata": {},
     "output_type": "execute_result"
    }
   ],
   "source": [
    "datetime.date(2020,9,7)"
   ]
  },
  {
   "cell_type": "code",
   "execution_count": 88,
   "metadata": {},
   "outputs": [],
   "source": [
    "k=datetime.time(1,28,45)"
   ]
  },
  {
   "cell_type": "code",
   "execution_count": 89,
   "metadata": {},
   "outputs": [
    {
     "data": {
      "text/plain": [
       "'A categorical variable is one that has a specific value from a limited selection of values. \\nTo understand how categorical variable works  say that you have a variable expressing the color \\nof an oject, such as car, and the user can select red, blue and green'"
      ]
     },
     "execution_count": 89,
     "metadata": {},
     "output_type": "execute_result"
    }
   ],
   "source": [
    "#Manipulating Cateorical Variables\n",
    "'''A categorical variable is one that has a specific value from a limited selection of values. \n",
    "To understand how categorical variable works  say that you have a variable expressing the color \n",
    "of an oject, such as car, and the user can select red, blue and green'''"
   ]
  }
 ],
 "metadata": {
  "kernelspec": {
   "display_name": "Python 3",
   "language": "python",
   "name": "python3"
  },
  "language_info": {
   "codemirror_mode": {
    "name": "ipython",
    "version": 3
   },
   "file_extension": ".py",
   "mimetype": "text/x-python",
   "name": "python",
   "nbconvert_exporter": "python",
   "pygments_lexer": "ipython3",
   "version": "3.7.6"
  }
 },
 "nbformat": 4,
 "nbformat_minor": 4
}
